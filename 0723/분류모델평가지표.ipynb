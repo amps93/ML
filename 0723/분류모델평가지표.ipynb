{
 "cells": [
  {
   "cell_type": "markdown",
   "id": "5bd2b7ec-dda5-480a-985a-b309371f5d4e",
   "metadata": {},
   "source": [
    "# 모델 성능 평가\n",
    "\n",
    "## 분류 모델의 평가 지표\n",
    ": 예측 대상이 범주형 데이터일 경우\n",
    "* 정확도(Accuracy)\n",
    "* 재현율(Recall)\n",
    "* 정밀도(Precision)\n",
    "* F1\n",
    "* G measure\n",
    "* ROC curve\n",
    "* AUC\n",
    "\n",
    "## 회귀 모델의 평가 지표\n",
    ": 예측 대상이 수치 데이터인 경우\n",
    "* MSE(Mean Square Erroe)\n",
    "* RMSE(Root Mean Square Error)\n",
    "* MAE(Mean Absolute Error)\n",
    "* MAPE(Mean Absolute Percentage Error)\n",
    "* $R^2$"
   ]
  },
  {
   "cell_type": "markdown",
   "id": "1ea0c650-cc5a-4b07-94c7-9b777d62904e",
   "metadata": {},
   "source": [
    "## 정확도 문제 예\n",
    "1. 타이타닉 생존자 예측\n",
    "2. MNIST 데이터 세트"
   ]
  },
  {
   "cell_type": "code",
   "execution_count": 3,
   "id": "77d7483a-5b81-49b6-9cce-5f7753076060",
   "metadata": {},
   "outputs": [],
   "source": [
    "import numpy as np\n",
    "from sklearn.base import BaseEstimator\n",
    "\n",
    "#아무런 학습을 하지 않고 성별에 따라 생존자를 예측하는 단순한 Classifier 생성\n",
    "#BestEstimator 상속 받음\n",
    "\n",
    "class MyDummyClassifier(BaseEstimator):\n",
    "    #fit() 메소드는 아무것도 학습하지 않음\n",
    "    def fit(self, X, y=None):\n",
    "        pass\n",
    "    \n",
    "    def predict(self, X):\n",
    "        pred = np.zeros((X.shape[0], 1))\n",
    "        for i in range(X.shape[0]):\n",
    "            if X['Sex'].iloc[i] == 1:\n",
    "                pred[i] = 0\n",
    "            else:\n",
    "                pred[i] = 1\n",
    "                \n",
    "        return pred"
   ]
  },
  {
   "cell_type": "markdown",
   "id": "180084dc-bde3-44f9-896f-694a49f43365",
   "metadata": {},
   "source": [
    "### MyDummyClassifier를 이용해 타이타닉 생존자 예측 수행"
   ]
  },
  {
   "cell_type": "code",
   "execution_count": 8,
   "id": "1abab82d-d5c2-41ce-8cbf-064591b6af40",
   "metadata": {},
   "outputs": [],
   "source": [
    "import pandas as pd\n",
    "from sklearn.preprocessing import LabelEncoder\n",
    "\n",
    "#Null 처리 함수\n",
    "def fillna(df):\n",
    "    df['Age'].fillna(df['Age'].mean(), inplace=True)\n",
    "    df['Cabin'].fillna('N', inplace=True)\n",
    "    df['Embarked'].fillna('N', inplace=True)\n",
    "    df['Fare'].fillna(0, inplace=True)\n",
    "    return df\n",
    "\n",
    "#머신러닝 알고리즘에 불필요한 속성 제거\n",
    "def drop_features(df):\n",
    "    df.drop(['PassengerId', 'Name', 'Ticket'], axis=1, inplace=True)\n",
    "    return df\n",
    "\n",
    "\n",
    "#레이블 인코딩 수행\n",
    "def format_features(df):\n",
    "    df['Cabin'] = df['Cabin'].str[:1] #첫문자만 추출\n",
    "    features = ['Cabin', 'Sex', 'Embarked']\n",
    "    for feature in features:\n",
    "        le = LabelEncoder()\n",
    "        le = le.fit(df[feature])\n",
    "        df[feature] = le.transform(df[feature])\n",
    "    return df\n",
    "\n",
    "#앞에서 설정한 Data Preprocessing 함수 호출\n",
    "def transform_features(df):\n",
    "    df = fillna(df)\n",
    "    df = drop_features(df)\n",
    "    df = format_features(df)\n",
    "    return df"
   ]
  },
  {
   "cell_type": "code",
   "execution_count": 10,
   "id": "ac366437-33c1-453a-b2ef-6a1106a2105e",
   "metadata": {},
   "outputs": [
    {
     "name": "stdout",
     "output_type": "stream",
     "text": [
      "0.7877094972067039\n"
     ]
    }
   ],
   "source": [
    "#타이타닉 생존자 예측\n",
    "from sklearn.model_selection import train_test_split\n",
    "from sklearn.metrics import accuracy_score\n",
    "\n",
    "#원본 데이터를 재로딩, 데이터 가공, 학습데이터/테스트 데이터 분할\n",
    "titanic_df = pd.read_csv('train.csv')\n",
    "y_titanic_df = titanic_df['Survived']\n",
    "X_titanic_df = titanic_df.drop('Survived', axis=1)\n",
    "X_titanic_df = transform_features(X_titanic_df)\n",
    "X_train, X_test, y_train, y_test = train_test_split(X_titanic_df, y_titanic_df, test_size=0.2, random_state=0)\n",
    "\n",
    "#위에서 생성한 Dummy Classifier를 이용하여 학습/예측/평가 수행\n",
    "myclf = MyDummyClassifier()\n",
    "myclf.fit(X_train, y_train)\n",
    "mypred = myclf.predict(X_test)\n",
    "print(accuracy_score(y_test, mypred))"
   ]
  },
  {
   "cell_type": "markdown",
   "id": "3b9ea7b9-619a-44e0-a106-70bc2a35d60f",
   "metadata": {},
   "source": [
    "# MNIST 데이터셋 활용하기"
   ]
  },
  {
   "cell_type": "code",
   "execution_count": 12,
   "id": "33defdb9-c812-4bd3-a30a-77bdcfbc1222",
   "metadata": {},
   "outputs": [],
   "source": [
    "from sklearn.datasets import load_digits\n",
    "from sklearn.model_selection import train_test_split\n",
    "from sklearn.base import BaseEstimator\n",
    "from sklearn.metrics import accuracy_score\n",
    "import pandas as pd\n",
    "import numpy as np\n",
    "\n",
    "class MyFakeClassifier(BaseEstimator):\n",
    "    def fit(self, X, y):\n",
    "        pass\n",
    "    \n",
    "    def predict(self, X):\n",
    "        return np.zeros((len(X), 1), dtype=bool)"
   ]
  },
  {
   "cell_type": "code",
   "execution_count": 14,
   "id": "f8424ed5-80dd-4c6b-9a88-94925d26a7e3",
   "metadata": {},
   "outputs": [],
   "source": [
    "#digit 데이터 로드\n",
    "digits = load_digits()\n",
    "# digits"
   ]
  },
  {
   "cell_type": "code",
   "execution_count": 15,
   "id": "725934e7-2b36-4b03-992b-2d2e11357d91",
   "metadata": {},
   "outputs": [
    {
     "data": {
      "text/plain": [
       "(1797, 64)"
      ]
     },
     "execution_count": 15,
     "metadata": {},
     "output_type": "execute_result"
    }
   ],
   "source": [
    "digits.data.shape"
   ]
  },
  {
   "cell_type": "code",
   "execution_count": 16,
   "id": "defed974-3fa4-476c-9c1a-34e73092ee92",
   "metadata": {},
   "outputs": [
    {
     "data": {
      "text/plain": [
       "(1797,)"
      ]
     },
     "execution_count": 16,
     "metadata": {},
     "output_type": "execute_result"
    }
   ],
   "source": [
    "digits.target.shape"
   ]
  },
  {
   "cell_type": "code",
   "execution_count": 19,
   "id": "70e9dfdf-8dad-4ba3-8913-dd755ca47cbc",
   "metadata": {},
   "outputs": [
    {
     "data": {
      "text/plain": [
       "array([False, False, False, ..., False, False, False])"
      ]
     },
     "execution_count": 19,
     "metadata": {},
     "output_type": "execute_result"
    }
   ],
   "source": [
    "# 7인 데이터 확인\n",
    "digits.target==7"
   ]
  },
  {
   "cell_type": "code",
   "execution_count": 20,
   "id": "11f692f0-3365-4bed-8b72-186f1aabaa72",
   "metadata": {},
   "outputs": [],
   "source": [
    "#7인 데이터는 1 그 외는 0으로 변환\n",
    "y = (digits.target==7).astype(int)"
   ]
  },
  {
   "cell_type": "code",
   "execution_count": 21,
   "id": "84130ecd-cb64-4102-800e-121a4ea90c86",
   "metadata": {},
   "outputs": [],
   "source": [
    "#학습/테스트 데이터 세트로 분리\n",
    "X_train, X_test, y_train, y_test = train_test_split(digits.data, y, random_state=11)"
   ]
  },
  {
   "cell_type": "code",
   "execution_count": 22,
   "id": "fa980eca-a6db-44af-ba3f-98cb7e8cc135",
   "metadata": {},
   "outputs": [
    {
     "data": {
      "text/plain": [
       "0    405\n",
       "1     45\n",
       "dtype: int64"
      ]
     },
     "execution_count": 22,
     "metadata": {},
     "output_type": "execute_result"
    }
   ],
   "source": [
    "#불균형한 레이블 데이터 분포도 확인\n",
    "pd.Series(y_test).value_counts()"
   ]
  },
  {
   "cell_type": "code",
   "execution_count": 25,
   "id": "6b2feba5-ddd4-42e0-abe7-3700a12bf6aa",
   "metadata": {},
   "outputs": [
    {
     "data": {
      "text/plain": [
       "0.9"
      ]
     },
     "execution_count": 25,
     "metadata": {},
     "output_type": "execute_result"
    }
   ],
   "source": [
    "#DummyClassifier로 학습/예측/평가\n",
    "\n",
    "fake_cl = MyFakeClassifier()\n",
    "fake_cl.fit(X_train, y_train)\n",
    "fakePred = fake_cl.predict(X_test)\n",
    "accuracy = accuracy_score(y_test, fakePred)\n",
    "accuracy"
   ]
  },
  {
   "cell_type": "markdown",
   "id": "2aab65c9-b2b8-418b-9372-de4d3f9a7b1c",
   "metadata": {},
   "source": [
    "# Confusion Matrix 오차행렬"
   ]
  },
  {
   "cell_type": "code",
   "execution_count": 26,
   "id": "246773c0-e348-4faf-90e5-e3b3a4b871d9",
   "metadata": {},
   "outputs": [
    {
     "data": {
      "text/plain": [
       "array([[405,   0],\n",
       "       [ 45,   0]], dtype=int64)"
      ]
     },
     "execution_count": 26,
     "metadata": {},
     "output_type": "execute_result"
    }
   ],
   "source": [
    "from sklearn.metrics import confusion_matrix\n",
    "#MNIST의 fakepred\n",
    "confusion_matrix(y_test, fakePred)"
   ]
  },
  {
   "cell_type": "markdown",
   "id": "e88c9f30-7ac2-4340-9ed9-44fcf8037f3b",
   "metadata": {},
   "source": []
  },
  {
   "cell_type": "code",
   "execution_count": 31,
   "id": "ee201368-2a33-44f0-a02e-a201d7797d91",
   "metadata": {},
   "outputs": [],
   "source": [
    "from sklearn.datasets import load_digits\n",
    "from sklearn.model_selection import train_test_split\n",
    "from sklearn.base import BaseEstimator\n",
    "from sklearn.metrics import accuracy_score\n",
    "import pandas as pd\n",
    "import numpy as np\n",
    "\n",
    "class MyFakeClassifier(BaseEstimator):\n",
    "    def fit(self, X, y):\n",
    "        pass\n",
    "    \n",
    "    def predict(self, X):\n",
    "        return np.zeros((len(X), 1), dtype=bool)\n",
    "    \n",
    "digits = load_digits()\n",
    "y = (digits.target == 7).astype(int)\n",
    "\n",
    "X_train, X_test, y_train, y_test = train_test_split(digits.data, y, random_state=11)\n",
    "fakeclf = MyFakeClassifier()\n",
    "fakeclf.fit(X_train, y_train)\n",
    "fakepred = fakeclf.predict(X_test)"
   ]
  },
  {
   "cell_type": "code",
   "execution_count": 29,
   "id": "65c06501-22c5-40d9-8e63-b6d7cbcb1391",
   "metadata": {},
   "outputs": [
    {
     "data": {
      "text/plain": [
       "0"
      ]
     },
     "execution_count": 29,
     "metadata": {},
     "output_type": "execute_result"
    }
   ],
   "source": [
    "fakepred.astype(int).sum()"
   ]
  },
  {
   "cell_type": "code",
   "execution_count": 30,
   "id": "68d439df-85b5-4fc3-985b-806f7316cc36",
   "metadata": {},
   "outputs": [
    {
     "name": "stdout",
     "output_type": "stream",
     "text": [
      "정밀도 :  0.0\n",
      "재현율 :  0.0\n"
     ]
    },
    {
     "name": "stderr",
     "output_type": "stream",
     "text": [
      "C:\\Users\\Amps\\anaconda3\\envs\\multi\\lib\\site-packages\\sklearn\\metrics\\_classification.py:1248: UndefinedMetricWarning: Precision is ill-defined and being set to 0.0 due to no predicted samples. Use `zero_division` parameter to control this behavior.\n",
      "  _warn_prf(average, modifier, msg_start, len(result))\n"
     ]
    }
   ],
   "source": [
    "#정밀도와 재현율 계산\n",
    "from sklearn.metrics import accuracy_score, precision_score, recall_score\n",
    "\n",
    "print('정밀도 : ', precision_score(y_test, fakepred))\n",
    "print('재현율 : ', recall_score(y_test, fakepred))"
   ]
  },
  {
   "cell_type": "markdown",
   "id": "89c631b9-02ad-46bf-89af-931d284a410f",
   "metadata": {},
   "source": [
    "## 오차행렬, 정확도, 정밀도, 재현율을 한꺼번에 계산하는 함수"
   ]
  },
  {
   "cell_type": "code",
   "execution_count": 32,
   "id": "461ddc21-4429-4835-8461-d85f9d78c11b",
   "metadata": {},
   "outputs": [],
   "source": [
    "from sklearn.metrics import accuracy_score, precision_score, recall_score, confusion_matrix\n",
    "\n",
    "def get_clf_eval(y_test, pred):\n",
    "    confusion = confusion_matrix(y_test, pred) #오차행렬 \n",
    "    accuracy = accuracy_score(y_test, pred) #정확도\n",
    "    precision = precision_score(y_test, pred) #정밀도\n",
    "    recall = recall_score(y_test, pred) #재현율\n",
    "    \n",
    "    print('오차행렬')\n",
    "    print(confusion)\n",
    "    print('정확도 : {0:.3f}, 정밀도 : {1:.3f}, 재현율 : {2:.3f}'.format(accuracy, precision, recall))"
   ]
  },
  {
   "cell_type": "code",
   "execution_count": 33,
   "id": "388d3cb4-527b-4ae9-8a1d-b964bb3e7149",
   "metadata": {},
   "outputs": [],
   "source": [
    "#전처리 함수\n",
    "import pandas as pd\n",
    "from sklearn.preprocessing import LabelEncoder\n",
    "\n",
    "#Null 처리 함수\n",
    "def fillna(df):\n",
    "    df['Age'].fillna(df['Age'].mean(), inplace=True)\n",
    "    df['Cabin'].fillna('N', inplace=True)\n",
    "    df['Embarked'].fillna('N', inplace=True)\n",
    "    df['Fare'].fillna(0, inplace=True)\n",
    "    return df\n",
    "\n",
    "#머신러닝 알고리즘에 불필요한 속성 제거\n",
    "def drop_features(df):\n",
    "    df.drop(['PassengerId', 'Name', 'Ticket'], axis=1, inplace=True)\n",
    "    return df\n",
    "\n",
    "\n",
    "#레이블 인코딩 수행\n",
    "def format_features(df):\n",
    "    df['Cabin'] = df['Cabin'].str[:1] #첫문자만 추출\n",
    "    features = ['Cabin', 'Sex', 'Embarked']\n",
    "    for feature in features:\n",
    "        le = LabelEncoder()\n",
    "        le = le.fit(df[feature])\n",
    "        df[feature] = le.transform(df[feature])\n",
    "    return df\n",
    "\n",
    "#앞에서 설정한 Data Preprocessing 함수 호출\n",
    "def transform_features(df):\n",
    "    df = fillna(df)\n",
    "    df = drop_features(df)\n",
    "    df = format_features(df)\n",
    "    return df"
   ]
  },
  {
   "cell_type": "code",
   "execution_count": 34,
   "id": "f25fc90e-0820-4871-b4a2-6a976e4511fe",
   "metadata": {},
   "outputs": [
    {
     "name": "stdout",
     "output_type": "stream",
     "text": [
      "오차행렬\n",
      "[[104  14]\n",
      " [ 13  48]]\n",
      "정확도 : 0.849, 정밀도 : 0.774, 재현율 : 0.787\n"
     ]
    },
    {
     "name": "stderr",
     "output_type": "stream",
     "text": [
      "C:\\Users\\Amps\\anaconda3\\envs\\multi\\lib\\site-packages\\sklearn\\linear_model\\_logistic.py:765: ConvergenceWarning: lbfgs failed to converge (status=1):\n",
      "STOP: TOTAL NO. of ITERATIONS REACHED LIMIT.\n",
      "\n",
      "Increase the number of iterations (max_iter) or scale the data as shown in:\n",
      "    https://scikit-learn.org/stable/modules/preprocessing.html\n",
      "Please also refer to the documentation for alternative solver options:\n",
      "    https://scikit-learn.org/stable/modules/linear_model.html#logistic-regression\n",
      "  extra_warning_msg=_LOGISTIC_SOLVER_CONVERGENCE_MSG)\n"
     ]
    }
   ],
   "source": [
    "from sklearn.linear_model import LogisticRegression\n",
    "#원본 데이터를 재로딩, 데이터 가공, 학습데이터/테스트 데이터 분할\n",
    "titanic_df = pd.read_csv('train.csv')\n",
    "y_titanic_df = titanic_df['Survived']\n",
    "X_titanic_df = titanic_df.drop('Survived', axis=1)\n",
    "X_titanic_df = transform_features(X_titanic_df)\n",
    "X_train, X_test, y_train, y_test = train_test_split(X_titanic_df, y_titanic_df, test_size=0.2, random_state=11)\n",
    "\n",
    "lr_clf = LogisticRegression()\n",
    "\n",
    "lr_clf.fit(X_train, y_train)\n",
    "lr_pred = lr_clf.predict(X_test)\n",
    "get_clf_eval(y_test, lr_pred)"
   ]
  },
  {
   "cell_type": "markdown",
   "id": "552f2a39-f95b-40f4-8213-01ffee22ba1d",
   "metadata": {},
   "source": [
    "## predict_proba()메소드"
   ]
  },
  {
   "cell_type": "code",
   "execution_count": 37,
   "id": "e29e2446-2d78-49b3-a7be-fcaa95e45a93",
   "metadata": {},
   "outputs": [
    {
     "data": {
      "text/plain": [
       "array([[0.46175211, 0.53824789],\n",
       "       [0.87863924, 0.12136076],\n",
       "       [0.87717092, 0.12282908],\n",
       "       [0.88269294, 0.11730706],\n",
       "       [0.85528973, 0.14471027]])"
      ]
     },
     "execution_count": 37,
     "metadata": {},
     "output_type": "execute_result"
    }
   ],
   "source": [
    "#예측 확률 반환\n",
    "pred_proba = lr_clf.predict_proba(X_test)\n",
    "pred_proba[:5]"
   ]
  },
  {
   "cell_type": "code",
   "execution_count": 40,
   "id": "5773274d-5804-4766-84dc-47d452ae64a7",
   "metadata": {},
   "outputs": [
    {
     "data": {
      "text/plain": [
       "array([1, 0, 0, 0, 0, 0, 0, 1, 0, 1, 0, 0, 0, 0, 1, 0, 0, 0, 0, 1, 0, 0,\n",
       "       0, 0, 0, 0, 0, 0, 0, 0, 1, 1, 0, 1, 0, 0, 0, 1, 0, 0, 0, 0, 1, 1,\n",
       "       1, 1, 1, 0, 1, 0, 1, 0, 0, 1, 0, 0, 0, 0, 0, 0, 0, 0, 1, 1, 0, 0,\n",
       "       1, 1, 1, 0, 0, 0, 0, 1, 0, 0, 0, 0, 1, 0, 1, 1, 1, 0, 1, 1, 0, 0,\n",
       "       1, 0, 0, 0, 0, 0, 1, 0, 1, 0, 1, 1, 1, 0, 1, 0, 1, 0, 0, 0, 0, 0,\n",
       "       0, 0, 0, 1, 0, 0, 0, 0, 1, 0, 0, 0, 0, 0, 0, 0, 0, 0, 1, 0, 1, 0,\n",
       "       1, 0, 1, 0, 1, 0, 0, 1, 1, 0, 0, 0, 0, 1, 0, 0, 1, 0, 0, 1, 1, 0,\n",
       "       1, 1, 0, 0, 1, 1, 0, 1, 0, 1, 0, 1, 1, 0, 0, 1, 0, 1, 0, 0, 0, 0,\n",
       "       0, 1, 1], dtype=int64)"
      ]
     },
     "execution_count": 40,
     "metadata": {},
     "output_type": "execute_result"
    }
   ],
   "source": [
    "#predict : 예측 결과 클래스 값 반환\n",
    "pred = lr_clf.predict(X_test)\n",
    "pred"
   ]
  },
  {
   "cell_type": "code",
   "execution_count": 43,
   "id": "d6976ca5-55d2-4968-a02f-25febc2ba46d",
   "metadata": {},
   "outputs": [
    {
     "name": "stdout",
     "output_type": "stream",
     "text": [
      "두개의 class 중에서 더 큰 확률을 클래스 값으로 예측\n"
     ]
    }
   ],
   "source": [
    "#예측확률 array와 예측 결과값 array를 concatenate하여 예측확률과 결과값을 한눈에 확인\n",
    "pred_proba_result = np.concatenate([pred_proba, pred.reshape(-1, 1)], axis=1)\n",
    "\n",
    "print('두개의 class 중에서 더 큰 확률을 클래스 값으로 예측')\n",
    "# print(pred_proba_result)"
   ]
  },
  {
   "cell_type": "markdown",
   "id": "7b0cbc3b-9148-4e5c-832e-559b48e11f09",
   "metadata": {},
   "source": [
    "## Binarizer"
   ]
  },
  {
   "cell_type": "code",
   "execution_count": 44,
   "id": "a0fd0b3b-efee-4967-91ef-187eedcadb12",
   "metadata": {},
   "outputs": [
    {
     "name": "stdout",
     "output_type": "stream",
     "text": [
      "[[0. 0. 1.]\n",
      " [1. 0. 0.]\n",
      " [0. 0. 1.]]\n"
     ]
    }
   ],
   "source": [
    "from sklearn.preprocessing import Binarizer\n",
    "\n",
    "X = [[1, -1, 2],\n",
    "     [2, 0, 0],\n",
    "     [0, 1.1, 1.2]]\n",
    "\n",
    "#threshold 기준값도다 같거나 작으면 0을 크면 1을 반환\n",
    "binarizer = Binarizer(threshold=1.1)\n",
    "print(binarizer.fit_transform(X))"
   ]
  },
  {
   "cell_type": "code",
   "execution_count": 45,
   "id": "030728a8-cd0e-465b-9a4a-0ad208c2dc60",
   "metadata": {},
   "outputs": [],
   "source": [
    "### 분류 결정 임계값 0.5 기반에서 Binarizer를 이용하여 예측값 변환"
   ]
  },
  {
   "cell_type": "code",
   "execution_count": 46,
   "id": "34ddcd66-7a5d-4470-a2a9-a4773d9ec4cd",
   "metadata": {},
   "outputs": [
    {
     "name": "stdout",
     "output_type": "stream",
     "text": [
      "오차행렬\n",
      "[[104  14]\n",
      " [ 13  48]]\n",
      "정확도 : 0.849, 정밀도 : 0.774, 재현율 : 0.787\n"
     ]
    }
   ],
   "source": [
    "#Binarizer의 threshold 설정값, 분류 결정 임계값 = 0.5로 설정\n",
    "c_threshold = 0.5\n",
    "\n",
    "#precidt_proba() 반환값([0확률 1확률])의 두번째 컬럼, 즉 Positive 클래스 컬럼 하나만 추출하여 Binarizer를 적용\n",
    "pred_proba_1 = pred_proba[:, 1].reshape(-1, 1)\n",
    "\n",
    "bina = Binarizer(threshold=c_threshold).fit(pred_proba_1)\n",
    "custom_predict = bina.transform(pred_proba_1)\n",
    "\n",
    "get_clf_eval(y_test, custom_predict)"
   ]
  },
  {
   "cell_type": "code",
   "execution_count": null,
   "id": "197a12f8-4788-4002-8085-fdac9327e12e",
   "metadata": {},
   "outputs": [],
   "source": [
    "### 분류 결정 임계값 0.4 기반에서 Binarizer를 이용하여 예측값 변환"
   ]
  },
  {
   "cell_type": "code",
   "execution_count": 47,
   "id": "dba67b52-0a7f-4740-92fd-0b3ea22c5948",
   "metadata": {},
   "outputs": [
    {
     "name": "stdout",
     "output_type": "stream",
     "text": [
      "오차행렬\n",
      "[[98 20]\n",
      " [10 51]]\n",
      "정확도 : 0.832, 정밀도 : 0.718, 재현율 : 0.836\n"
     ]
    }
   ],
   "source": [
    "#Binarizer의 threshold 설정값, 분류 결정 임계값 = 0.5로 설정\n",
    "c_threshold = 0.4\n",
    "\n",
    "#precidt_proba() 반환값([0확률 1확률])의 두번째 컬럼, 즉 Positive 클래스 컬럼 하나만 추출하여 Binarizer를 적용\n",
    "pred_proba_1 = pred_proba[:, 1].reshape(-1, 1)\n",
    "\n",
    "bina = Binarizer(threshold=c_threshold).fit(pred_proba_1)\n",
    "custom_predict = bina.transform(pred_proba_1)\n",
    "\n",
    "get_clf_eval(y_test, custom_predict)"
   ]
  },
  {
   "cell_type": "code",
   "execution_count": 48,
   "id": "823bc8aa-9ef1-4c4c-9a71-870b342c3dca",
   "metadata": {},
   "outputs": [],
   "source": [
    "### 분류 결정 임계값을 리스트에 저장해서 Binarizer를 이용하여 예측값 변환"
   ]
  },
  {
   "cell_type": "code",
   "execution_count": 50,
   "id": "3be7d98f-686b-41e1-80d8-11aee7bf8333",
   "metadata": {},
   "outputs": [
    {
     "ename": "IndexError",
     "evalue": "boolean index did not match indexed array along dimension 1; dimension is 1 but corresponding boolean dimension is 5",
     "output_type": "error",
     "traceback": [
      "\u001b[1;31m---------------------------------------------------------------------------\u001b[0m",
      "\u001b[1;31mIndexError\u001b[0m                                Traceback (most recent call last)",
      "\u001b[1;32m<ipython-input-50-991e20fcefc9>\u001b[0m in \u001b[0;36m<module>\u001b[1;34m\u001b[0m\n\u001b[0;32m      6\u001b[0m \u001b[1;33m\u001b[0m\u001b[0m\n\u001b[0;32m      7\u001b[0m \u001b[0mbina\u001b[0m \u001b[1;33m=\u001b[0m \u001b[0mBinarizer\u001b[0m\u001b[1;33m(\u001b[0m\u001b[0mthreshold\u001b[0m\u001b[1;33m=\u001b[0m\u001b[0mc_threshold\u001b[0m\u001b[1;33m)\u001b[0m\u001b[1;33m.\u001b[0m\u001b[0mfit\u001b[0m\u001b[1;33m(\u001b[0m\u001b[0mpred_proba_1\u001b[0m\u001b[1;33m)\u001b[0m\u001b[1;33m\u001b[0m\u001b[1;33m\u001b[0m\u001b[0m\n\u001b[1;32m----> 8\u001b[1;33m \u001b[0mcustom_predict\u001b[0m \u001b[1;33m=\u001b[0m \u001b[0mbina\u001b[0m\u001b[1;33m.\u001b[0m\u001b[0mtransform\u001b[0m\u001b[1;33m(\u001b[0m\u001b[0mpred_proba_1\u001b[0m\u001b[1;33m)\u001b[0m\u001b[1;33m\u001b[0m\u001b[1;33m\u001b[0m\u001b[0m\n\u001b[0m\u001b[0;32m      9\u001b[0m \u001b[1;33m\u001b[0m\u001b[0m\n\u001b[0;32m     10\u001b[0m \u001b[0mget_clf_eval\u001b[0m\u001b[1;33m(\u001b[0m\u001b[0my_test\u001b[0m\u001b[1;33m,\u001b[0m \u001b[0mcustom_predict\u001b[0m\u001b[1;33m)\u001b[0m\u001b[1;33m\u001b[0m\u001b[1;33m\u001b[0m\u001b[0m\n",
      "\u001b[1;32m~\\anaconda3\\envs\\multi\\lib\\site-packages\\sklearn\\preprocessing\\_data.py\u001b[0m in \u001b[0;36mtransform\u001b[1;34m(self, X, copy)\u001b[0m\n\u001b[0;32m   2206\u001b[0m         X = self._validate_data(X, accept_sparse=['csr', 'csc'], copy=copy,\n\u001b[0;32m   2207\u001b[0m                                 reset=False)\n\u001b[1;32m-> 2208\u001b[1;33m         \u001b[1;32mreturn\u001b[0m \u001b[0mbinarize\u001b[0m\u001b[1;33m(\u001b[0m\u001b[0mX\u001b[0m\u001b[1;33m,\u001b[0m \u001b[0mthreshold\u001b[0m\u001b[1;33m=\u001b[0m\u001b[0mself\u001b[0m\u001b[1;33m.\u001b[0m\u001b[0mthreshold\u001b[0m\u001b[1;33m,\u001b[0m \u001b[0mcopy\u001b[0m\u001b[1;33m=\u001b[0m\u001b[1;32mFalse\u001b[0m\u001b[1;33m)\u001b[0m\u001b[1;33m\u001b[0m\u001b[1;33m\u001b[0m\u001b[0m\n\u001b[0m\u001b[0;32m   2209\u001b[0m \u001b[1;33m\u001b[0m\u001b[0m\n\u001b[0;32m   2210\u001b[0m     \u001b[1;32mdef\u001b[0m \u001b[0m_more_tags\u001b[0m\u001b[1;33m(\u001b[0m\u001b[0mself\u001b[0m\u001b[1;33m)\u001b[0m\u001b[1;33m:\u001b[0m\u001b[1;33m\u001b[0m\u001b[1;33m\u001b[0m\u001b[0m\n",
      "\u001b[1;32m~\\anaconda3\\envs\\multi\\lib\\site-packages\\sklearn\\utils\\validation.py\u001b[0m in \u001b[0;36minner_f\u001b[1;34m(*args, **kwargs)\u001b[0m\n\u001b[0;32m     61\u001b[0m             \u001b[0mextra_args\u001b[0m \u001b[1;33m=\u001b[0m \u001b[0mlen\u001b[0m\u001b[1;33m(\u001b[0m\u001b[0margs\u001b[0m\u001b[1;33m)\u001b[0m \u001b[1;33m-\u001b[0m \u001b[0mlen\u001b[0m\u001b[1;33m(\u001b[0m\u001b[0mall_args\u001b[0m\u001b[1;33m)\u001b[0m\u001b[1;33m\u001b[0m\u001b[1;33m\u001b[0m\u001b[0m\n\u001b[0;32m     62\u001b[0m             \u001b[1;32mif\u001b[0m \u001b[0mextra_args\u001b[0m \u001b[1;33m<=\u001b[0m \u001b[1;36m0\u001b[0m\u001b[1;33m:\u001b[0m\u001b[1;33m\u001b[0m\u001b[1;33m\u001b[0m\u001b[0m\n\u001b[1;32m---> 63\u001b[1;33m                 \u001b[1;32mreturn\u001b[0m \u001b[0mf\u001b[0m\u001b[1;33m(\u001b[0m\u001b[1;33m*\u001b[0m\u001b[0margs\u001b[0m\u001b[1;33m,\u001b[0m \u001b[1;33m**\u001b[0m\u001b[0mkwargs\u001b[0m\u001b[1;33m)\u001b[0m\u001b[1;33m\u001b[0m\u001b[1;33m\u001b[0m\u001b[0m\n\u001b[0m\u001b[0;32m     64\u001b[0m \u001b[1;33m\u001b[0m\u001b[0m\n\u001b[0;32m     65\u001b[0m             \u001b[1;31m# extra_args > 0\u001b[0m\u001b[1;33m\u001b[0m\u001b[1;33m\u001b[0m\u001b[1;33m\u001b[0m\u001b[0m\n",
      "\u001b[1;32m~\\anaconda3\\envs\\multi\\lib\\site-packages\\sklearn\\preprocessing\\_data.py\u001b[0m in \u001b[0;36mbinarize\u001b[1;34m(X, threshold, copy)\u001b[0m\n\u001b[0;32m   2097\u001b[0m         \u001b[0mcond\u001b[0m \u001b[1;33m=\u001b[0m \u001b[0mX\u001b[0m \u001b[1;33m>\u001b[0m \u001b[0mthreshold\u001b[0m\u001b[1;33m\u001b[0m\u001b[1;33m\u001b[0m\u001b[0m\n\u001b[0;32m   2098\u001b[0m         \u001b[0mnot_cond\u001b[0m \u001b[1;33m=\u001b[0m \u001b[0mnp\u001b[0m\u001b[1;33m.\u001b[0m\u001b[0mlogical_not\u001b[0m\u001b[1;33m(\u001b[0m\u001b[0mcond\u001b[0m\u001b[1;33m)\u001b[0m\u001b[1;33m\u001b[0m\u001b[1;33m\u001b[0m\u001b[0m\n\u001b[1;32m-> 2099\u001b[1;33m         \u001b[0mX\u001b[0m\u001b[1;33m[\u001b[0m\u001b[0mcond\u001b[0m\u001b[1;33m]\u001b[0m \u001b[1;33m=\u001b[0m \u001b[1;36m1\u001b[0m\u001b[1;33m\u001b[0m\u001b[1;33m\u001b[0m\u001b[0m\n\u001b[0m\u001b[0;32m   2100\u001b[0m         \u001b[0mX\u001b[0m\u001b[1;33m[\u001b[0m\u001b[0mnot_cond\u001b[0m\u001b[1;33m]\u001b[0m \u001b[1;33m=\u001b[0m \u001b[1;36m0\u001b[0m\u001b[1;33m\u001b[0m\u001b[1;33m\u001b[0m\u001b[0m\n\u001b[0;32m   2101\u001b[0m     \u001b[1;32mreturn\u001b[0m \u001b[0mX\u001b[0m\u001b[1;33m\u001b[0m\u001b[1;33m\u001b[0m\u001b[0m\n",
      "\u001b[1;31mIndexError\u001b[0m: boolean index did not match indexed array along dimension 1; dimension is 1 but corresponding boolean dimension is 5"
     ]
    }
   ],
   "source": [
    "#Binarizer의 threshold 설정값, 분류 결정 임계값 = 0.5로 설정\n",
    "c_threshold = [0.40, 0.45, 0.50, 0.55, 0.60]\n",
    "\n",
    "def get_eval_by_threshold():\n",
    "#precidt_proba() 반환값([0확률 1확률])의 두번째 컬럼, 즉 Positive 클래스 컬럼 하나만 추출하여 Binarizer를 적용\n",
    "pred_proba_1 = pred_proba[:, 1].reshape(-1, 1)\n",
    "\n",
    "bina = Binarizer(threshold=c_threshold).fit(pred_proba_1)\n",
    "custom_predict = bina.transform(pred_proba_1)\n",
    "\n",
    "get_clf_eval(y_test, custom_predict)"
   ]
  },
  {
   "cell_type": "code",
   "execution_count": 53,
   "id": "996dc338-6493-44ea-b19e-34cb126313c1",
   "metadata": {},
   "outputs": [
    {
     "name": "stdout",
     "output_type": "stream",
     "text": [
      "임계값 shape :  (143,)\n",
      "정밀도 shape :  (144,)\n",
      "재현율 shape :  (144,)\n",
      "임계값 sample :  [0.10394781 0.10395007 0.10397544 0.10773598 0.10892335]\n",
      "정밀도 sample :  [0.38853503 0.38461538 0.38709677 0.38961039 0.38562092]\n",
      "재현율 sample :  [1.         0.98360656 0.98360656 0.98360656 0.96721311]\n"
     ]
    }
   ],
   "source": [
    "from sklearn.metrics import precision_recall_curve\n",
    "\n",
    "#레이블 값이 1일때의 예측 확률을 추출\n",
    "pred_proba_class1 = lr_clf.predict_proba(X_test)[:, 1]\n",
    "\n",
    "#실제값 데이터셋과 레이블값이 1일떄의 예측 확률을 precision_recall_curve 인자로 입력\n",
    "precisions, recalls, thresholds = precision_recall_curve(y_test, pred_proba_class1)\n",
    "print('임계값 shape : ', thresholds.shape)\n",
    "print('정밀도 shape : ', precisions.shape)\n",
    "print('재현율 shape : ', recalls.shape)\n",
    "\n",
    "print('임계값 sample : ', thresholds[:5])\n",
    "print('정밀도 sample : ', precisions[:5])\n",
    "print('재현율 sample : ', recalls[:5])"
   ]
  },
  {
   "cell_type": "code",
   "execution_count": 56,
   "id": "7c69f0d8-88ae-44bd-abc8-e09f3fe176b4",
   "metadata": {},
   "outputs": [
    {
     "data": {
      "image/png": "[encoded data removed]",
      "text/plain": [
       "<Figure size 576x432 with 1 Axes>"
      ]
     },
     "metadata": {
      "needs_background": "light"
     },
     "output_type": "display_data"
    }
   ],
   "source": [
    "import matplotlib.pyplot as plt\n",
    "import matplotlib.ticker as ticker\n",
    "%matplotlib inline\n",
    "\n",
    "def precision_recall_curve_plot(y_test, pred_proba_c1):\n",
    "    precisions, recalls, thresholds = precision_recall_curve(y_test, pred_proba_c1)\n",
    "    \n",
    "    plt.figure(figsize=(8,6))\n",
    "    threshold_boundary = thresholds.shape[0] #(143,)에서 143 추출\n",
    "    plt.plot(thresholds, precisions[0:threshold_boundary], linestyle='--', label='precision')\n",
    "    plt.plot(thresholds, recalls[0:threshold_boundary], label='recall')\n",
    "    \n",
    "    start, end = plt.xlim()\n",
    "    plt.xticks(np.round(np.arange(start, end, 0.1), 2))\n",
    "    \n",
    "    plt.xlabel('Threshold value'); plt.ylabel('Precision and Recall value')\n",
    "    plt.legend(); plt.grid()\n",
    "    plt.show()\n",
    "    \n",
    "precision_recall_curve_plot(y_test, lr_clf.predict_proba(X_test)[:, 1])"
   ]
  },
  {
   "cell_type": "markdown",
   "id": "d0d6ec33-080d-4a13-9ff5-ca2f6b72a8db",
   "metadata": {},
   "source": [
    "# 타이타닉 생존자 예측에서 F1 스코어"
   ]
  },
  {
   "cell_type": "code",
   "execution_count": 64,
   "id": "379d2579-1dcf-4921-a2c2-fd7a7a91dbb9",
   "metadata": {},
   "outputs": [],
   "source": [
    "def get_clf_eval(y_test, pred):\n",
    "    confusion = confusion_matrix(y_test, pred) #오차행렬 \n",
    "    accuracy = accuracy_score(y_test, pred) #정확도\n",
    "    precision = precision_score(y_test, pred) #정밀도\n",
    "    recall = recall_score(y_test, pred) #재현율\n",
    "    #F1 스코어 추가\n",
    "    f1 = f1_score(y_test, pred)\n",
    "    \n",
    "    print('오차행렬')\n",
    "    print(confusion)\n",
    "    #F1 score print 추가\n",
    "    print('정확도 : {0:.3f}, 정밀도 : {1:.3f}, 재현율 : {2:.3f}, F1 : {3:.3f}'.format(accuracy, precision, recall, f1))"
   ]
  },
  {
   "cell_type": "code",
   "execution_count": 66,
   "id": "44857ed2-a427-48e4-ae47-eea68734dca1",
   "metadata": {},
   "outputs": [
    {
     "ename": "TypeError",
     "evalue": "get_clf_eval() takes 2 positional arguments but 3 were given",
     "output_type": "error",
     "traceback": [
      "\u001b[1;31m---------------------------------------------------------------------------\u001b[0m",
      "\u001b[1;31mTypeError\u001b[0m                                 Traceback (most recent call last)",
      "\u001b[1;32m<ipython-input-66-64eafccce6b8>\u001b[0m in \u001b[0;36m<module>\u001b[1;34m\u001b[0m\n\u001b[0;32m      3\u001b[0m \u001b[1;33m\u001b[0m\u001b[0m\n\u001b[0;32m      4\u001b[0m \u001b[0mpred_proba\u001b[0m \u001b[1;33m=\u001b[0m \u001b[0mlr_clf\u001b[0m\u001b[1;33m.\u001b[0m\u001b[0mpredict_proba\u001b[0m\u001b[1;33m(\u001b[0m\u001b[0mX_test\u001b[0m\u001b[1;33m)\u001b[0m\u001b[1;33m\u001b[0m\u001b[1;33m\u001b[0m\u001b[0m\n\u001b[1;32m----> 5\u001b[1;33m \u001b[0mget_clf_eval\u001b[0m\u001b[1;33m(\u001b[0m\u001b[0my_test\u001b[0m\u001b[1;33m,\u001b[0m \u001b[0mpred_proba\u001b[0m\u001b[1;33m[\u001b[0m\u001b[1;33m:\u001b[0m\u001b[1;33m,\u001b[0m \u001b[1;36m1\u001b[0m\u001b[1;33m]\u001b[0m\u001b[1;33m.\u001b[0m\u001b[0mreshape\u001b[0m\u001b[1;33m(\u001b[0m\u001b[1;33m-\u001b[0m\u001b[1;36m1\u001b[0m\u001b[1;33m,\u001b[0m \u001b[1;36m1\u001b[0m\u001b[1;33m)\u001b[0m\u001b[1;33m,\u001b[0m \u001b[0mthresholds\u001b[0m\u001b[1;33m)\u001b[0m\u001b[1;33m\u001b[0m\u001b[1;33m\u001b[0m\u001b[0m\n\u001b[0m",
      "\u001b[1;31mTypeError\u001b[0m: get_clf_eval() takes 2 positional arguments but 3 were given"
     ]
    }
   ],
   "source": [
    "#임계값 0.4~0.6 별로 정확도, 정밀도, 재현율, F1 스코어 확인\n",
    "threshold = [0.40, 0.45, 0.50, 0.55, 0.60]\n",
    "\n",
    "pred_proba = lr_clf.predict_proba(X_test)\n",
    "get_clf_eval(y_test, pred_proba[:, 1].reshape(-1, 1), thresholds)"
   ]
  },
  {
   "cell_type": "markdown",
   "id": "aa902507-a9c6-4a74-a92c-ed160cc32a15",
   "metadata": {},
   "source": [
    "# G measure"
   ]
  },
  {
   "cell_type": "markdown",
   "id": "3afcd95c-e0df-4840-b8ec-d51099cb3ed0",
   "metadata": {},
   "source": [
    "## ROC Curve와 AUC"
   ]
  },
  {
   "cell_type": "code",
   "execution_count": 68,
   "id": "d80a4533-179e-4b4a-a960-51cd2b6b4d87",
   "metadata": {},
   "outputs": [
    {
     "name": "stdout",
     "output_type": "stream",
     "text": [
      "샘플 추출을 위한 임계값 배열의 index :  [ 1  6 11 16 21 26 31 36 41 46 51]\n",
      "샘플용 임계값 :  [0.97 0.65 0.63 0.56 0.45 0.4  0.35 0.15 0.13 0.11 0.11]\n",
      "샘플 임계값별 FPR :  [0.    0.017 0.034 0.076 0.127 0.169 0.203 0.466 0.585 0.686 0.797]\n",
      "샘플 임계값별 TPR :  [0.033 0.639 0.721 0.754 0.803 0.836 0.885 0.902 0.934 0.967 0.984]\n"
     ]
    }
   ],
   "source": [
    "from sklearn.metrics import roc_curve\n",
    "\n",
    "pred_proba_class1 = lr_clf.predict_proba(X_test)[:, 1]\n",
    "\n",
    "fprs, tprs, thresholds = roc_curve(y_test, pred_proba_class1)\n",
    "\n",
    "#thresholds[0]은 max(예측확률)+1로 임의 설정되는데 이를 제외하기 위해 np.arange는 1부터 시작\n",
    "thr_index = np.arange(1, thresholds.shape[0], 5)\n",
    "print('샘플 추출을 위한 임계값 배열의 index : ', thr_index)\n",
    "print('샘플용 임계값 : ', np.round(thresholds[thr_index], 2))\n",
    "\n",
    "#5step 단위로 추출된 임계값에 따른 FPR, TPR 값\n",
    "print('샘플 임계값별 FPR : ', np.round(fprs[thr_index], 3))\n",
    "print('샘플 임계값별 TPR : ', np.round(tprs[thr_index], 3))"
   ]
  },
  {
   "cell_type": "code",
   "execution_count": null,
   "id": "c5c8e13e-ee75-4693-9a65-8a61bf431879",
   "metadata": {},
   "outputs": [],
   "source": []
  }
 ],
 "metadata": {
  "kernelspec": {
   "display_name": "Python Multi",
   "language": "python",
   "name": "multi"
  },
  "language_info": {
   "codemirror_mode": {
    "name": "ipython",
    "version": 3
   },
   "file_extension": ".py",
   "mimetype": "text/x-python",
   "name": "python",
   "nbconvert_exporter": "python",
   "pygments_lexer": "ipython3",
   "version": "3.7.6"
  }
 },
 "nbformat": 4,
 "nbformat_minor": 5
}
