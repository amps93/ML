{
 "cells": [
  {
   "cell_type": "code",
   "execution_count": 45,
   "id": "f656bbb2-7c80-4105-965f-b497f9862049",
   "metadata": {},
   "outputs": [],
   "source": [
    "from sklearn.datasets import load_iris\n",
    "from sklearn.tree import DecisionTreeClassifier\n",
    "from sklearn.metrics import accuracy_score\n",
    "from sklearn.model_selection import train_test_split, KFold ,StratifiedKFold, cross_val_score, cross_validate, GridSearchCV\n",
    "import numpy as np\n",
    "import pandas as pd"
   ]
  },
  {
   "cell_type": "code",
   "execution_count": 5,
   "id": "70678603-aa5b-48b2-be3d-1fe44b353c82",
   "metadata": {},
   "outputs": [
    {
     "name": "stdout",
     "output_type": "stream",
     "text": [
      "1.0\n"
     ]
    }
   ],
   "source": [
    "# 학습/테스트 데이터 셋 분리하지 않고 예측\n",
    "\n",
    "iris_data = load_iris()\n",
    "dt_clf = DecisionTreeClassifier()\n",
    "\n",
    "\n",
    "train_data = iris_data.data\n",
    "train_label = iris_data.target\n",
    "\n",
    "#학습 수행\n",
    "dt_clf.fit(train_data, train_label)\n",
    "\n",
    "#테스트\n",
    "pred = dt_clf.predict(train_data)\n",
    "print(accuracy_score(train_label, pred))"
   ]
  },
  {
   "cell_type": "markdown",
   "id": "c3019225-15c8-4cc3-bdb1-68e857d303a0",
   "metadata": {},
   "source": [
    "* 예측을 train_data로 했기 때문에 결과 1.0으로 출력(잘못됨)\n",
    "* 예측은 테스트 데이터로 해야함"
   ]
  },
  {
   "cell_type": "code",
   "execution_count": 7,
   "id": "e74ccd73-5d11-403d-9cfb-c6bb4c33afb7",
   "metadata": {},
   "outputs": [
    {
     "data": {
      "text/plain": [
       "array([0, 0, 0, 2, 0, 2, 2, 0, 2, 1, 1, 1, 0, 0, 1, 1, 1, 1, 1, 1, 1, 0,\n",
       "       1, 1, 0, 0, 1, 1, 1, 0, 0, 2, 0, 0, 1, 2, 2, 2, 2, 2, 2, 1, 2, 2,\n",
       "       2, 0, 2, 0, 0, 0, 2, 1, 1, 2, 2, 1, 0, 2, 0, 1, 2, 0, 1, 1, 2, 0,\n",
       "       0, 2, 2, 1, 1, 1, 2, 2, 0, 2, 0, 1, 0, 0, 2, 2, 2, 0, 0, 2, 1, 1,\n",
       "       2, 0, 2, 0, 0, 2, 2, 0, 0, 0, 2, 1, 0, 1, 2, 0, 1])"
      ]
     },
     "execution_count": 7,
     "metadata": {},
     "output_type": "execute_result"
    }
   ],
   "source": [
    "# 학습/테스트 데이터셋 분리하고 예측\n",
    "X_train, X_test, y_train, y_test= train_test_split(iris_data.data, iris_data.target, test_size=0.3, random_state=20)\n",
    "\n",
    "y_train"
   ]
  },
  {
   "cell_type": "code",
   "execution_count": 8,
   "id": "79c3fab5-7257-4edc-b5f9-2b2a3e208696",
   "metadata": {},
   "outputs": [
    {
     "name": "stdout",
     "output_type": "stream",
     "text": [
      "0.8888888888888888\n"
     ]
    }
   ],
   "source": [
    "#학습 수행\n",
    "dt_clf.fit(X_train, y_train)\n",
    "\n",
    "#예측 수행\n",
    "pred = dt_clf.predict(X_test)\n",
    "print(accuracy_score(y_test, pred))"
   ]
  },
  {
   "cell_type": "code",
   "execution_count": 11,
   "id": "cff68ee5-570c-4a60-bed1-5d4afe0d0e9a",
   "metadata": {},
   "outputs": [
    {
     "data": {
      "text/html": [
       "<div>\n",
       "<style scoped>\n",
       "    .dataframe tbody tr th:only-of-type {\n",
       "        vertical-align: middle;\n",
       "    }\n",
       "\n",
       "    .dataframe tbody tr th {\n",
       "        vertical-align: top;\n",
       "    }\n",
       "\n",
       "    .dataframe thead th {\n",
       "        text-align: right;\n",
       "    }\n",
       "</style>\n",
       "<table border=\"1\" class=\"dataframe\">\n",
       "  <thead>\n",
       "    <tr style=\"text-align: right;\">\n",
       "      <th></th>\n",
       "      <th>sepal length (cm)</th>\n",
       "      <th>sepal width (cm)</th>\n",
       "      <th>petal length (cm)</th>\n",
       "      <th>petal width (cm)</th>\n",
       "      <th>target</th>\n",
       "    </tr>\n",
       "  </thead>\n",
       "  <tbody>\n",
       "    <tr>\n",
       "      <th>0</th>\n",
       "      <td>5.1</td>\n",
       "      <td>3.5</td>\n",
       "      <td>1.4</td>\n",
       "      <td>0.2</td>\n",
       "      <td>0</td>\n",
       "    </tr>\n",
       "    <tr>\n",
       "      <th>1</th>\n",
       "      <td>4.9</td>\n",
       "      <td>3.0</td>\n",
       "      <td>1.4</td>\n",
       "      <td>0.2</td>\n",
       "      <td>0</td>\n",
       "    </tr>\n",
       "    <tr>\n",
       "      <th>2</th>\n",
       "      <td>4.7</td>\n",
       "      <td>3.2</td>\n",
       "      <td>1.3</td>\n",
       "      <td>0.2</td>\n",
       "      <td>0</td>\n",
       "    </tr>\n",
       "    <tr>\n",
       "      <th>3</th>\n",
       "      <td>4.6</td>\n",
       "      <td>3.1</td>\n",
       "      <td>1.5</td>\n",
       "      <td>0.2</td>\n",
       "      <td>0</td>\n",
       "    </tr>\n",
       "    <tr>\n",
       "      <th>4</th>\n",
       "      <td>5.0</td>\n",
       "      <td>3.6</td>\n",
       "      <td>1.4</td>\n",
       "      <td>0.2</td>\n",
       "      <td>0</td>\n",
       "    </tr>\n",
       "  </tbody>\n",
       "</table>\n",
       "</div>"
      ],
      "text/plain": [
       "   sepal length (cm)  sepal width (cm)  petal length (cm)  petal width (cm)  \\\n",
       "0                5.1               3.5                1.4               0.2   \n",
       "1                4.9               3.0                1.4               0.2   \n",
       "2                4.7               3.2                1.3               0.2   \n",
       "3                4.6               3.1                1.5               0.2   \n",
       "4                5.0               3.6                1.4               0.2   \n",
       "\n",
       "   target  \n",
       "0       0  \n",
       "1       0  \n",
       "2       0  \n",
       "3       0  \n",
       "4       0  "
      ]
     },
     "execution_count": 11,
     "metadata": {},
     "output_type": "execute_result"
    }
   ],
   "source": [
    "#판다스를 이용해 학습/테스트 데이터셋 분류\n",
    "\n",
    "iris_df = pd.DataFrame(iris_data.data, columns = iris_data.feature_names)\n",
    "iris_df['target'] = iris_data.target\n",
    "iris_df.head()"
   ]
  },
  {
   "cell_type": "code",
   "execution_count": 13,
   "id": "e3dce89d-5216-487f-8a78-f97a0d6c9b89",
   "metadata": {},
   "outputs": [],
   "source": [
    "#feature 데이터프레임 반환(마지막 열 제외)\n",
    "feature_df = iris_df.iloc[:, :-1]\n",
    "\n",
    "#target 데이터 프레임 반환\n",
    "target_df = iris_df.iloc[:, -1]\n",
    "\n",
    "#학습/테스트 데이터 분할\n",
    "X_train, X_test, y_train, y_test= train_test_split(feature_df, target_df, test_size=0.3, random_state=4)"
   ]
  },
  {
   "cell_type": "code",
   "execution_count": 14,
   "id": "d38b9777-d99b-4e5b-826e-6776ed4f780e",
   "metadata": {},
   "outputs": [
    {
     "data": {
      "text/plain": [
       "pandas.core.frame.DataFrame"
      ]
     },
     "execution_count": 14,
     "metadata": {},
     "output_type": "execute_result"
    }
   ],
   "source": [
    "type(X_train)"
   ]
  },
  {
   "cell_type": "code",
   "execution_count": 15,
   "id": "79c49592-1362-4f8e-92ad-d2b612e2881d",
   "metadata": {},
   "outputs": [
    {
     "name": "stdout",
     "output_type": "stream",
     "text": [
      "0.9777777777777777\n"
     ]
    }
   ],
   "source": [
    "dt_clf = DecisionTreeClassifier()\n",
    "dt_clf.fit(X_train, y_train)\n",
    "pred = dt_clf.predict(X_test)\n",
    "print(accuracy_score(y_test, pred))"
   ]
  },
  {
   "cell_type": "markdown",
   "id": "ebefb4cb-aa95-4b5e-8a0d-bdfba3b9102f",
   "metadata": {},
   "source": [
    "# Data Split과 모델 검증\n",
    "* 언제\n",
    "    * 충분히 큰 데이터 세트를 가용할 때\n",
    "    * 충분히 큰 데이터가 없을때에는 교차확인 고려\n",
    "* 왜\n",
    "    * 학습에 사용하지 않는"
   ]
  },
  {
   "cell_type": "markdown",
   "id": "11e258f2-36b5-4244-8cf9-06c591bc9cbf",
   "metadata": {},
   "source": [
    "# K폴드 예제"
   ]
  },
  {
   "cell_type": "code",
   "execution_count": 16,
   "id": "4bb6fd8b-3112-409d-888f-a61bceaf068e",
   "metadata": {},
   "outputs": [
    {
     "data": {
      "text/plain": [
       "(150, 4)"
      ]
     },
     "execution_count": 16,
     "metadata": {},
     "output_type": "execute_result"
    }
   ],
   "source": [
    "iris = load_iris()\n",
    "features = iris.data\n",
    "label = iris.target\n",
    "\n",
    "features.shape"
   ]
  },
  {
   "cell_type": "code",
   "execution_count": 18,
   "id": "ae9d7110-205c-46d8-a4e7-128db5e7ce78",
   "metadata": {},
   "outputs": [],
   "source": [
    "dt_clf = DecisionTreeClassifier(random_state=156)\n",
    "\n",
    "#5개의 폴드 세트로 분리하는 KFold 객체 생성\n",
    "kfold = KFold(n_splits=5)\n",
    "\n",
    "#폴드 세트별 정확도를 담을 리스트 객체 생성\n",
    "cv_accuracy = []"
   ]
  },
  {
   "cell_type": "code",
   "execution_count": 21,
   "id": "d7f26ee2-7165-46dd-b41d-0b7798ad0d5c",
   "metadata": {},
   "outputs": [
    {
     "name": "stdout",
     "output_type": "stream",
     "text": [
      "[ 30  31  32  33  34  35  36  37  38  39  40  41  42  43  44  45  46  47\n",
      "  48  49  50  51  52  53  54  55  56  57  58  59  60  61  62  63  64  65\n",
      "  66  67  68  69  70  71  72  73  74  75  76  77  78  79  80  81  82  83\n",
      "  84  85  86  87  88  89  90  91  92  93  94  95  96  97  98  99 100 101\n",
      " 102 103 104 105 106 107 108 109 110 111 112 113 114 115 116 117 118 119\n",
      " 120 121 122 123 124 125 126 127 128 129 130 131 132 133 134 135 136 137\n",
      " 138 139 140 141 142 143 144 145 146 147 148 149] [ 0  1  2  3  4  5  6  7  8  9 10 11 12 13 14 15 16 17 18 19 20 21 22 23\n",
      " 24 25 26 27 28 29]\n",
      "[  0   1   2   3   4   5   6   7   8   9  10  11  12  13  14  15  16  17\n",
      "  18  19  20  21  22  23  24  25  26  27  28  29  60  61  62  63  64  65\n",
      "  66  67  68  69  70  71  72  73  74  75  76  77  78  79  80  81  82  83\n",
      "  84  85  86  87  88  89  90  91  92  93  94  95  96  97  98  99 100 101\n",
      " 102 103 104 105 106 107 108 109 110 111 112 113 114 115 116 117 118 119\n",
      " 120 121 122 123 124 125 126 127 128 129 130 131 132 133 134 135 136 137\n",
      " 138 139 140 141 142 143 144 145 146 147 148 149] [30 31 32 33 34 35 36 37 38 39 40 41 42 43 44 45 46 47 48 49 50 51 52 53\n",
      " 54 55 56 57 58 59]\n",
      "[  0   1   2   3   4   5   6   7   8   9  10  11  12  13  14  15  16  17\n",
      "  18  19  20  21  22  23  24  25  26  27  28  29  30  31  32  33  34  35\n",
      "  36  37  38  39  40  41  42  43  44  45  46  47  48  49  50  51  52  53\n",
      "  54  55  56  57  58  59  90  91  92  93  94  95  96  97  98  99 100 101\n",
      " 102 103 104 105 106 107 108 109 110 111 112 113 114 115 116 117 118 119\n",
      " 120 121 122 123 124 125 126 127 128 129 130 131 132 133 134 135 136 137\n",
      " 138 139 140 141 142 143 144 145 146 147 148 149] [60 61 62 63 64 65 66 67 68 69 70 71 72 73 74 75 76 77 78 79 80 81 82 83\n",
      " 84 85 86 87 88 89]\n",
      "[  0   1   2   3   4   5   6   7   8   9  10  11  12  13  14  15  16  17\n",
      "  18  19  20  21  22  23  24  25  26  27  28  29  30  31  32  33  34  35\n",
      "  36  37  38  39  40  41  42  43  44  45  46  47  48  49  50  51  52  53\n",
      "  54  55  56  57  58  59  60  61  62  63  64  65  66  67  68  69  70  71\n",
      "  72  73  74  75  76  77  78  79  80  81  82  83  84  85  86  87  88  89\n",
      " 120 121 122 123 124 125 126 127 128 129 130 131 132 133 134 135 136 137\n",
      " 138 139 140 141 142 143 144 145 146 147 148 149] [ 90  91  92  93  94  95  96  97  98  99 100 101 102 103 104 105 106 107\n",
      " 108 109 110 111 112 113 114 115 116 117 118 119]\n",
      "[  0   1   2   3   4   5   6   7   8   9  10  11  12  13  14  15  16  17\n",
      "  18  19  20  21  22  23  24  25  26  27  28  29  30  31  32  33  34  35\n",
      "  36  37  38  39  40  41  42  43  44  45  46  47  48  49  50  51  52  53\n",
      "  54  55  56  57  58  59  60  61  62  63  64  65  66  67  68  69  70  71\n",
      "  72  73  74  75  76  77  78  79  80  81  82  83  84  85  86  87  88  89\n",
      "  90  91  92  93  94  95  96  97  98  99 100 101 102 103 104 105 106 107\n",
      " 108 109 110 111 112 113 114 115 116 117 118 119] [120 121 122 123 124 125 126 127 128 129 130 131 132 133 134 135 136 137\n",
      " 138 139 140 141 142 143 144 145 146 147 148 149]\n"
     ]
    }
   ],
   "source": [
    "#폴드 별 학습용, 검증용 데이터 세트의 행 인덱스확인\n",
    "for train_index, test_index in kfold.split(features):\n",
    "    print(train_index, test_index)"
   ]
  },
  {
   "cell_type": "code",
   "execution_count": 22,
   "id": "8d8144b4-961d-4451-acd1-379c61bd1d02",
   "metadata": {},
   "outputs": [
    {
     "name": "stdout",
     "output_type": "stream",
     "text": [
      "학습 데이터 크기 : 120, 검증 데이터 크기 : 30, 정확도 : 1.000000\n",
      "학습 데이터 크기 : 120, 검증 데이터 크기 : 30, 정확도 : 0.967000\n",
      "학습 데이터 크기 : 120, 검증 데이터 크기 : 30, 정확도 : 0.867000\n",
      "학습 데이터 크기 : 120, 검증 데이터 크기 : 30, 정확도 : 0.933000\n",
      "학습 데이터 크기 : 120, 검증 데이터 크기 : 30, 정확도 : 0.733000\n",
      "평균 정확도 :  0.9\n"
     ]
    }
   ],
   "source": [
    "for train_index, test_index in kfold.split(features):\n",
    "    X_train, X_test = features[train_index], features[test_index]\n",
    "    y_train, y_test = label[train_index], label[test_index]\n",
    "        \n",
    "    dt_clf.fit(X_train, y_train)\n",
    "    pred = dt_clf.predict(X_test)\n",
    "    \n",
    "    acc = np.round(accuracy_score(y_test, pred), 3)\n",
    "    train_size = X_train.shape[0]\n",
    "    test_size = X_test.shape[0]\n",
    "    \n",
    "    print('학습 데이터 크기 : %d, 검증 데이터 크기 : %d, 정확도 : %f' % (train_size, test_size, acc))\n",
    "    cv_accuracy.append(acc)\n",
    "    \n",
    "print('평균 정확도 : ', np.mean(cv_accuracy))"
   ]
  },
  {
   "cell_type": "markdown",
   "id": "ca32569e-27e5-4ee4-95c5-bedfb273a0a1",
   "metadata": {},
   "source": [
    "# KFold 문제점"
   ]
  },
  {
   "cell_type": "code",
   "execution_count": 26,
   "id": "e936bfda-cecb-40fd-a48e-5aafbd8a7d78",
   "metadata": {},
   "outputs": [],
   "source": [
    "iris = load_iris()\n",
    "\n",
    "iris_df = pd.DataFrame(iris_data.data, columns = iris_data.feature_names)\n",
    "iris_df['label'] = iris_data.target\n",
    "iris_df.head()"
   ]
  },
  {
   "cell_type": "code",
   "execution_count": 29,
   "id": "f3a6a295-f2e4-473c-8238-d62da16ff492",
   "metadata": {},
   "outputs": [
    {
     "data": {
      "text/plain": [
       "0    50\n",
       "1    50\n",
       "2    50\n",
       "Name: label, dtype: int64"
      ]
     },
     "execution_count": 29,
     "metadata": {},
     "output_type": "execute_result"
    }
   ],
   "source": [
    "iris_df['label'].value_counts()"
   ]
  },
  {
   "cell_type": "code",
   "execution_count": 32,
   "id": "1b81b74d-060d-4953-a20d-51ce1f5ea0d9",
   "metadata": {},
   "outputs": [
    {
     "name": "stdout",
     "output_type": "stream",
     "text": [
      "교차검증 : 1\n",
      "학습용 : \n",
      " 1    50\n",
      "2    50\n",
      "Name: label, dtype: int64\n",
      "검증용 : \n",
      " 0    50\n",
      "Name: label, dtype: int64\n",
      "교차검증 : 1\n",
      "학습용 : \n",
      " 0    50\n",
      "2    50\n",
      "Name: label, dtype: int64\n",
      "검증용 : \n",
      " 1    50\n",
      "Name: label, dtype: int64\n",
      "교차검증 : 1\n",
      "학습용 : \n",
      " 0    50\n",
      "1    50\n",
      "Name: label, dtype: int64\n",
      "검증용 : \n",
      " 2    50\n",
      "Name: label, dtype: int64\n"
     ]
    }
   ],
   "source": [
    "#3개의 폴드 세트로 분리하는 KFold 객체 생성\n",
    "kfold = KFold(n_splits=3)\n",
    "\n",
    "n=0\n",
    "for train_index, test_index in kfold.split(features):\n",
    "    n =+ 1\n",
    "    label_train = iris_df['label'].iloc[train_index]\n",
    "    label_test = iris_df['label'].iloc[test_index]\n",
    "    print('교차검증 : %d' % n)\n",
    "    print('학습용 : \\n', label_train.value_counts())\n",
    "    print('검증용 : \\n', label_test.value_counts())"
   ]
  },
  {
   "cell_type": "code",
   "execution_count": 34,
   "id": "4711b197-10e0-4032-a80b-99a4717bc95b",
   "metadata": {},
   "outputs": [
    {
     "name": "stdout",
     "output_type": "stream",
     "text": [
      "학습 데이터 크기 : 100, 검증 데이터 크기 : 50, 정확도 : 0.000000\n",
      "학습 데이터 크기 : 100, 검증 데이터 크기 : 50, 정확도 : 0.000000\n",
      "학습 데이터 크기 : 100, 검증 데이터 크기 : 50, 정확도 : 0.000000\n",
      "평균 정확도 :  0.0\n"
     ]
    }
   ],
   "source": [
    "dt_clf = DecisionTreeClassifier(random_state=156)\n",
    "\n",
    "#3개의 폴드 세트로 분리하는 KFold 객체 생성\n",
    "kfold = KFold(n_splits=3)\n",
    "\n",
    "#폴드 세트별 정확도를 담을 리스트 객체 생성\n",
    "cv_accuracy = []\n",
    "\n",
    "for train_index, test_index in kfold.split(features):\n",
    "    X_train, X_test = features[train_index], features[test_index]\n",
    "    y_train, y_test = label[train_index], label[test_index]\n",
    "        \n",
    "    dt_clf.fit(X_train, y_train)\n",
    "    pred = dt_clf.predict(X_test)\n",
    "    \n",
    "    #반복시마다 정확도 측정\n",
    "    acc = np.round(accuracy_score(y_test, pred), 3)\n",
    "    train_size = X_train.shape[0]\n",
    "    test_size = X_test.shape[0]\n",
    "    \n",
    "    print('학습 데이터 크기 : %d, 검증 데이터 크기 : %d, 정확도 : %f' % (train_size, test_size, acc))\n",
    "    cv_accuracy.append(acc)\n",
    "    \n",
    "print('평균 정확도 : ', np.mean(cv_accuracy))"
   ]
  },
  {
   "cell_type": "markdown",
   "id": "6d768bdd-2c10-47c8-8e56-f563e9cd856b",
   "metadata": {},
   "source": [
    "# Stratified KFold"
   ]
  },
  {
   "cell_type": "code",
   "execution_count": 36,
   "id": "17e78136-174f-44f6-9b3c-ce0a6b8dd091",
   "metadata": {},
   "outputs": [
    {
     "name": "stdout",
     "output_type": "stream",
     "text": [
      "교차검증 : 1\n",
      "학습용 레이블 분포 : \n",
      " 2    34\n",
      "0    33\n",
      "1    33\n",
      "Name: label, dtype: int64\n",
      "검증용 레이블 분포 : \n",
      " 0    17\n",
      "1    17\n",
      "2    16\n",
      "Name: label, dtype: int64\n",
      "교차검증 : 2\n",
      "학습용 레이블 분포 : \n",
      " 1    34\n",
      "0    33\n",
      "2    33\n",
      "Name: label, dtype: int64\n",
      "검증용 레이블 분포 : \n",
      " 0    17\n",
      "2    17\n",
      "1    16\n",
      "Name: label, dtype: int64\n",
      "교차검증 : 3\n",
      "학습용 레이블 분포 : \n",
      " 0    34\n",
      "1    33\n",
      "2    33\n",
      "Name: label, dtype: int64\n",
      "검증용 레이블 분포 : \n",
      " 1    17\n",
      "2    17\n",
      "0    16\n",
      "Name: label, dtype: int64\n"
     ]
    }
   ],
   "source": [
    "skf = StratifiedKFold(n_splits=3)\n",
    "n=0\n",
    "\n",
    "for train_index, test_index in skf.split(iris_df, iris_df['label']):\n",
    "    n += 1\n",
    "    \n",
    "    label_train = iris_df['label'].iloc[train_index]\n",
    "    label_test = iris_df['label'].iloc[test_index]\n",
    "    print('교차검증 : %d' % n)\n",
    "    print('학습용 레이블 분포 : \\n', label_train.value_counts())\n",
    "    print('검증용 레이블 분포 : \\n', label_test.value_counts())"
   ]
  },
  {
   "cell_type": "code",
   "execution_count": 37,
   "id": "7ac4c65f-3188-4925-9c4c-2ee43c084f50",
   "metadata": {},
   "outputs": [
    {
     "name": "stdout",
     "output_type": "stream",
     "text": [
      "학습 데이터 크기 : 100, 검증 데이터 크기 : 50, 정확도 : 0.980000\n",
      "학습 데이터 크기 : 100, 검증 데이터 크기 : 50, 정확도 : 0.940000\n",
      "학습 데이터 크기 : 100, 검증 데이터 크기 : 50, 정확도 : 0.980000\n",
      "평균 정확도 :  0.9666666666666667\n"
     ]
    }
   ],
   "source": [
    "dt_clf = DecisionTreeClassifier(random_state=156)\n",
    "\n",
    "#3개의 폴드 세트로 분리하는 KFold 객체 생성\n",
    "skfold = StratifiedKFold(n_splits=3)\n",
    "\n",
    "#폴드 세트별 정확도를 담을 리스트 객체 생성\n",
    "cv_accuracy = []\n",
    "\n",
    "for train_index, test_index in skfold.split(features, label):\n",
    "    X_train, X_test = features[train_index], features[test_index]\n",
    "    y_train, y_test = label[train_index], label[test_index]\n",
    "        \n",
    "    dt_clf.fit(X_train, y_train)\n",
    "    pred = dt_clf.predict(X_test)\n",
    "    \n",
    "    #반복시마다 정확도 측정\n",
    "    acc = np.round(accuracy_score(y_test, pred), 3)\n",
    "    train_size = X_train.shape[0]\n",
    "    test_size = X_test.shape[0]\n",
    "    \n",
    "    print('학습 데이터 크기 : %d, 검증 데이터 크기 : %d, 정확도 : %f' % (train_size, test_size, acc))\n",
    "    cv_accuracy.append(acc)\n",
    "    \n",
    "print('평균 정확도 : ', np.mean(cv_accuracy))"
   ]
  },
  {
   "cell_type": "markdown",
   "id": "71e5ada3-82ad-4750-8adc-5d7fcea9b834",
   "metadata": {},
   "source": [
    "# 교차검증을 이용해 간단하게"
   ]
  },
  {
   "cell_type": "code",
   "execution_count": 44,
   "id": "bbab987e-a1bc-412d-810d-22ec959d18f4",
   "metadata": {},
   "outputs": [
    {
     "name": "stdout",
     "output_type": "stream",
     "text": [
      "교차 검증별 정확도 :  [0.98 0.94 0.98]\n",
      "평균 검증 정확도 :  0.9667\n"
     ]
    }
   ],
   "source": [
    "iris_data = load_iris()\n",
    "dt_clf = DecisionTreeClassifier(random_state=156)\n",
    "\n",
    "features = iris.data\n",
    "label = iris.target\n",
    "\n",
    "scores = cross_val_score(dt_clf, features, label, scoring='accuracy', cv=3)\n",
    "print('교차 검증별 정확도 : ', scores)\n",
    "print('평균 검증 정확도 : ', np.round(np.mean(scores), 4))"
   ]
  },
  {
   "cell_type": "markdown",
   "id": "2300ffe1-831f-415e-9a35-6ea193d9a9ae",
   "metadata": {},
   "source": [
    "# 교차 검증과 최적의 하이퍼파라미터 튜닝을 한번에"
   ]
  },
  {
   "cell_type": "code",
   "execution_count": 48,
   "id": "1ec664a3-f646-448d-a7f3-722a1b825278",
   "metadata": {},
   "outputs": [],
   "source": [
    "iris = load_iris()\n",
    "\n",
    "X_train, X_test, y_train, y_test = train_test_split(iris.data, iris.target, random_state=121, test_size=0.2)\n",
    "\n",
    "dt_clf = DecisionTreeClassifier()\n",
    "\n",
    "parameters = {'max_depth': [1, 2, 3], 'min_samples_split': [2, 3]}\n",
    "#하이퍼파라미터는 딕셔너리 형식으로 지정\n",
    "#key : 결정트리의 하이퍼파라미터\n",
    "#value : 하이퍼파라미터의 값"
   ]
  },
  {
   "cell_type": "code",
   "execution_count": 51,
   "id": "17beeec9-6090-4b27-b5fd-967dd5b75dbb",
   "metadata": {},
   "outputs": [],
   "source": [
    "grid_tree = GridSearchCV(dt_clf, param_grid=parameter, cv=3, refit=True, return_train_score=True)\n",
    "\n",
    "grid_tree.fit(X_train, y_train)\n",
    "\n",
    "scores_df = pd.DataFrame(grid_tree.cv_results_)"
   ]
  },
  {
   "cell_type": "code",
   "execution_count": 52,
   "id": "462d85e4-4e15-47b7-821b-4ef51c7dfbf8",
   "metadata": {},
   "outputs": [
    {
     "data": {
      "text/html": [
       "<div>\n",
       "<style scoped>\n",
       "    .dataframe tbody tr th:only-of-type {\n",
       "        vertical-align: middle;\n",
       "    }\n",
       "\n",
       "    .dataframe tbody tr th {\n",
       "        vertical-align: top;\n",
       "    }\n",
       "\n",
       "    .dataframe thead th {\n",
       "        text-align: right;\n",
       "    }\n",
       "</style>\n",
       "<table border=\"1\" class=\"dataframe\">\n",
       "  <thead>\n",
       "    <tr style=\"text-align: right;\">\n",
       "      <th></th>\n",
       "      <th>params</th>\n",
       "      <th>mean_test_score</th>\n",
       "      <th>rank_test_score</th>\n",
       "    </tr>\n",
       "  </thead>\n",
       "  <tbody>\n",
       "    <tr>\n",
       "      <th>0</th>\n",
       "      <td>{'max_depth': 1, 'min_samples_split': 2}</td>\n",
       "      <td>0.700000</td>\n",
       "      <td>5</td>\n",
       "    </tr>\n",
       "    <tr>\n",
       "      <th>1</th>\n",
       "      <td>{'max_depth': 1, 'min_samples_split': 3}</td>\n",
       "      <td>0.700000</td>\n",
       "      <td>5</td>\n",
       "    </tr>\n",
       "    <tr>\n",
       "      <th>2</th>\n",
       "      <td>{'max_depth': 2, 'min_samples_split': 2}</td>\n",
       "      <td>0.958333</td>\n",
       "      <td>3</td>\n",
       "    </tr>\n",
       "    <tr>\n",
       "      <th>3</th>\n",
       "      <td>{'max_depth': 2, 'min_samples_split': 3}</td>\n",
       "      <td>0.958333</td>\n",
       "      <td>3</td>\n",
       "    </tr>\n",
       "    <tr>\n",
       "      <th>4</th>\n",
       "      <td>{'max_depth': 3, 'min_samples_split': 2}</td>\n",
       "      <td>0.975000</td>\n",
       "      <td>1</td>\n",
       "    </tr>\n",
       "    <tr>\n",
       "      <th>5</th>\n",
       "      <td>{'max_depth': 3, 'min_samples_split': 3}</td>\n",
       "      <td>0.975000</td>\n",
       "      <td>1</td>\n",
       "    </tr>\n",
       "  </tbody>\n",
       "</table>\n",
       "</div>"
      ],
      "text/plain": [
       "                                     params  mean_test_score  rank_test_score\n",
       "0  {'max_depth': 1, 'min_samples_split': 2}         0.700000                5\n",
       "1  {'max_depth': 1, 'min_samples_split': 3}         0.700000                5\n",
       "2  {'max_depth': 2, 'min_samples_split': 2}         0.958333                3\n",
       "3  {'max_depth': 2, 'min_samples_split': 3}         0.958333                3\n",
       "4  {'max_depth': 3, 'min_samples_split': 2}         0.975000                1\n",
       "5  {'max_depth': 3, 'min_samples_split': 3}         0.975000                1"
      ]
     },
     "execution_count": 52,
     "metadata": {},
     "output_type": "execute_result"
    }
   ],
   "source": [
    "#GridSearchCV 겨로가 세트로 딕셔너리 형태은 cv_results_를 DataFrame으로 변환 후 일부 파라미터 확인\n",
    "scores_df[['params', 'mean_test_score', 'rank_test_score']]"
   ]
  },
  {
   "cell_type": "code",
   "execution_count": 54,
   "id": "d23ab5d9-a634-488e-ab5a-27f202214cd3",
   "metadata": {},
   "outputs": [
    {
     "name": "stdout",
     "output_type": "stream",
     "text": [
      "최적 파라미터 :  {'max_depth': 3, 'min_samples_split': 2}\n",
      "최고 정확도 :  0.975\n"
     ]
    }
   ],
   "source": [
    "#최고 성능을 가지는 파라미터 조합 및 예측 성능 1위값 출력\n",
    "print('최적 파라미터 : ', grid_tree.best_params_)\n",
    "print('최고 정확도 : ', grid_tree.best_score_)"
   ]
  },
  {
   "cell_type": "code",
   "execution_count": 57,
   "id": "6dea11e7-92c4-4434-8faf-3e82eab36054",
   "metadata": {},
   "outputs": [
    {
     "data": {
      "text/plain": [
       "0.9666666666666667"
      ]
     },
     "execution_count": 57,
     "metadata": {},
     "output_type": "execute_result"
    }
   ],
   "source": [
    "#GridSeacrchCV 객체의 생성 파라미터로 refit=True로 설정된 경우(디폴트)\n",
    "#GridSeacrchCV가 최적 성능을 나타내는 하이퍼 파라미터로 Estimator를 학습하고 best_estimaotr_로 저장(GridSeacrchCV의 refit으로 이미 학습이 된 estimator)\n",
    "best_dt = grid_tree.best_estimator_\n",
    "\n",
    "#best_estimator_는 이미 최적 학습이 됐으므로 별도 학습 필요 없이 바로 예측 가능\n",
    "pred = best_dt.predict(X_test)\n",
    "accuracy_score(y_test, pred)"
   ]
  },
  {
   "cell_type": "code",
   "execution_count": null,
   "id": "c11e024f-8202-440c-9d57-c08fdc0f7564",
   "metadata": {},
   "outputs": [],
   "source": []
  }
 ],
 "metadata": {
  "kernelspec": {
   "display_name": "Python Multi",
   "language": "python",
   "name": "multi"
  },
  "language_info": {
   "codemirror_mode": {
    "name": "ipython",
    "version": 3
   },
   "file_extension": ".py",
   "mimetype": "text/x-python",
   "name": "python",
   "nbconvert_exporter": "python",
   "pygments_lexer": "ipython3",
   "version": "3.7.6"
  }
 },
 "nbformat": 4,
 "nbformat_minor": 5
}
