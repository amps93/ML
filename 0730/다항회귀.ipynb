{
 "cells": [
  {
   "cell_type": "markdown",
   "id": "cf1d66cb-6877-4f70-b959-2318ecb56135",
   "metadata": {},
   "source": [
    "# 다항 회귀(Polynomial Regression)\n",
    "\n",
    "- Polynomial Regression과 과대적합/과소적합의 이해\n",
    "\n",
    "## 다항 회귀(Polynomial Regression) 이해\n",
    "\n",
    "**다중선형회귀**\n",
    "\n",
    "$ y = w_0 + w_1 X_{1} + w_2 X_{2} + w_3 X_{3} + ... + w_n X_{n} $\n",
    "- 독립변수(festure)와 종속변수(target)의 관계가 일차방정식으로 표현된 회귀\n",
    "- 직선으로 표현\n",
    "\n",
    "**다항회귀**\n",
    "\n",
    "$ y = w_0 + w_1 X_{1} + w_2 X_{2} + w_3 X_{1}X_{2} + w_4 X_{1}^2 + w_5 X_{2}^2 $\n",
    "\n",
    "- 회귀가 독립변수의 일차식이 아닌 2차식, 3차식 등 다항식으로 표현되는 회귀식\n",
    "- 선형회귀임\n",
    "\n",
    "$ z=[X_{1} , X_{2} , X_{1}X_{2} , X_{1}^2, X_{2}^2 ] $라고 하면\n",
    "\n",
    "$ y = w_0 + w_1 Z_{1} + w_2 Z_{2} + w_3 Z_{3} + w_4 Z_{4} + w_5 Z_{5} $\n",
    "\n",
    "[참고] 선형/비선형 기준\n",
    "- 회귀계수가 선형/비선형인지에 따른 것이지 독립변수의 선형/비선형 여부와 무관함\n",
    "\n",
    "**사이킷런은 다항회귀를 위한 클래스를 명시적으로 제공하지 않음**\n",
    "- 다항 회귀가 선형 회귀이므로 PolynomalFeatures 클래스를 통해 독립변수(피처)를 다항식 피처로 변환\n",
    "\n",
    "PolynomialFeatures(degree=차수)\n",
    "\n",
    "fit_transform(피처)"
   ]
  },
  {
   "cell_type": "markdown",
   "id": "3685c9b8-781e-4e53-82a6-69f67a237410",
   "metadata": {},
   "source": [
    "## 사이킷런 PolynomialFeatures 사용"
   ]
  },
  {
   "cell_type": "code",
   "execution_count": 3,
   "id": "f7b50932-ebad-460b-a81b-5cee2867334a",
   "metadata": {},
   "outputs": [
    {
     "data": {
      "text/plain": [
       "array([[0, 1],\n",
       "       [2, 3],\n",
       "       [4, 5]])"
      ]
     },
     "execution_count": 3,
     "metadata": {},
     "output_type": "execute_result"
    }
   ],
   "source": [
    "import numpy as np\n",
    "import pandas as pd\n",
    "from sklearn.preprocessing import PolynomialFeatures\n",
    "\n",
    "X = np.arange(6).reshape(3,2)\n",
    "X"
   ]
  },
  {
   "cell_type": "code",
   "execution_count": 4,
   "id": "1d23325d-a90c-47e1-ae60-ac90fb6fff2c",
   "metadata": {},
   "outputs": [
    {
     "data": {
      "text/plain": [
       "array([[ 1.,  0.,  1.,  0.,  0.,  1.],\n",
       "       [ 1.,  2.,  3.,  4.,  6.,  9.],\n",
       "       [ 1.,  4.,  5., 16., 20., 25.]])"
      ]
     },
     "execution_count": 4,
     "metadata": {},
     "output_type": "execute_result"
    }
   ],
   "source": [
    "poly = PolynomialFeatures(degree=2) #degree : 차수\n",
    "\n",
    "#transform from (x1, x2) to (1, x1, x2, x1^2, x1*x2, x2^2)\n",
    "\n",
    "poly.fit_transform(X)"
   ]
  },
  {
   "cell_type": "code",
   "execution_count": 5,
   "id": "2f884f14-9857-4bd1-bf6f-0f549281000c",
   "metadata": {},
   "outputs": [
    {
     "name": "stdout",
     "output_type": "stream",
     "text": [
      "[[0 1 2]\n",
      " [3 4 5]\n",
      " [6 7 8]]\n"
     ]
    },
    {
     "data": {
      "text/plain": [
       "array([[ 1.,  0.,  1.,  2.,  0.,  0.,  0.,  1.,  2.,  4.],\n",
       "       [ 1.,  3.,  4.,  5.,  9., 12., 15., 16., 20., 25.],\n",
       "       [ 1.,  6.,  7.,  8., 36., 42., 48., 49., 56., 64.]])"
      ]
     },
     "execution_count": 5,
     "metadata": {},
     "output_type": "execute_result"
    }
   ],
   "source": [
    "X2 = np.arange(9).reshape(3,3)\n",
    "print(X2)\n",
    "#transform from (x1, x2, x3) to (1, x1, x2, x3, x1^2, x1*x2, x1*x3, x2^2, x2*x3, x3^2)\n",
    "poly.fit_transform(X2)"
   ]
  },
  {
   "cell_type": "code",
   "execution_count": 31,
   "id": "f894c5f6-5e00-4686-9ecd-46fbae216152",
   "metadata": {},
   "outputs": [
    {
     "name": "stdout",
     "output_type": "stream",
     "text": [
      "일차 단항식 계수 feature : \n",
      " [[0 1]\n",
      " [2 3]]\n",
      "삼차 다항식 결정값 : \n",
      " [  5 125]\n"
     ]
    }
   ],
   "source": [
    "def polynomial_func(X):\n",
    "    y = 1 + 2*X[:, 0] + 3*X[:, 0]**2 + 4*X[:, 1]**3\n",
    "#     print(X[:, 0])\n",
    "#     print(X[:, 1])\n",
    "    return y\n",
    "\n",
    "X = np.arange(0,4).reshape(2,2)\n",
    "print('일차 단항식 계수 feature : \\n', X)\n",
    "\n",
    "y = polynomial_func(X)\n",
    "print('삼차 다항식 결정값 : \\n', y)"
   ]
  },
  {
   "cell_type": "code",
   "execution_count": 37,
   "id": "f664ce8c-c099-4d3e-9ee6-b5c78fb20b8d",
   "metadata": {},
   "outputs": [
    {
     "name": "stdout",
     "output_type": "stream",
     "text": [
      "[[0 1 2 3]]\n"
     ]
    },
    {
     "data": {
      "text/plain": [
       "array([[1., 0., 1., 2., 3., 0., 0., 0., 0., 1., 2., 3., 4., 6., 9.]])"
      ]
     },
     "execution_count": 37,
     "metadata": {},
     "output_type": "execute_result"
    }
   ],
   "source": [
    "poly = PolynomialFeatures(degree=3) #degree : 차수\n",
    "\n",
    "#transform from (x1, x2) to (1, x1, x2, x1^2, x1*x2, x2^2)\n",
    "X = np.arange(0,4).reshape(1,-1)\n",
    "print(X)\n",
    "poly.fit_transform(X)"
   ]
  },
  {
   "cell_type": "markdown",
   "id": "e364766b-0f11-40fc-9dfb-7631a485f548",
   "metadata": {},
   "source": [
    "## 3차 다항식 계수의 피쳐값과 3차 다항식 결정값으로 학습"
   ]
  },
  {
   "cell_type": "code",
   "execution_count": 14,
   "id": "d77276f3-c766-4495-a44a-55715a21c860",
   "metadata": {},
   "outputs": [
    {
     "name": "stdout",
     "output_type": "stream",
     "text": [
      "일차 단항식 계수 feature : \n",
      " [[0 1]\n",
      " [2 3]]\n",
      "3차 다항식 계수 feutre : \n",
      " [[ 1.  0.  1.  0.  0.  1.  0.  0.  0.  1.]\n",
      " [ 1.  2.  3.  4.  6.  9.  8. 12. 18. 27.]]\n",
      "Polynomial 회귀 계수 \n",
      " [0.   0.18 0.18 0.36 0.54 0.72 0.72 1.08 1.62 2.34]\n",
      "Polynomial 회귀 Shape :  (10,)\n"
     ]
    }
   ],
   "source": [
    "from sklearn.linear_model import LinearRegression\n",
    "\n",
    "X = np.arange(0,4).reshape(2,2)\n",
    "print('일차 단항식 계수 feature : \\n', X)\n",
    "\n",
    "#3차 다항식 변환\n",
    "poly_ftr = PolynomialFeatures(degree=3).fit_transform(X)\n",
    "print('3차 다항식 계수 feutre : \\n', poly_ftr)\n",
    "\n",
    "#Linear Regression에 3차 다항식 계수 feature와 3차 다항식 결정값으로 학습 후 회귀 계수 확인\n",
    "model = LinearRegression()\n",
    "model.fit(poly_ftr, y)\n",
    "print('Polynomial 회귀 계수 \\n', np.round(model.coef_, 2))\n",
    "print('Polynomial 회귀 Shape : ', model.coef_.shape)"
   ]
  },
  {
   "cell_type": "markdown",
   "id": "7a1bbb91-a799-41fc-b88e-0238af57d5a1",
   "metadata": {},
   "source": [
    "## 사이킷런 파이프 라인 활용"
   ]
  },
  {
   "cell_type": "code",
   "execution_count": 15,
   "id": "3e6a79cb-dbc5-4601-b9db-3cbfe2d7941d",
   "metadata": {},
   "outputs": [
    {
     "name": "stdout",
     "output_type": "stream",
     "text": [
      "Polynomial 회귀 계수 \n",
      " [0.   0.18 0.18 0.36 0.54 0.72 0.72 1.08 1.62 2.34]\n"
     ]
    }
   ],
   "source": [
    "from sklearn.pipeline import Pipeline\n",
    "\n",
    "def polynomial_func(X):\n",
    "    y = 1 + 2*X[:, 0] + 3*X[:, 0]**2 + 4*X[:, 1]**3\n",
    "    return y\n",
    "\n",
    "#Pipeline 객체로 Streamline하게 Polynomial Feature 변환과 Linear Regression을 연결\n",
    "model = Pipeline([('poly', PolynomialFeatures(degree=3)),\n",
    "                 ('linear', LinearRegression())])\n",
    "\n",
    "X = np.arange(4).reshape(2,2)\n",
    "y = polynomial_func(X)\n",
    "\n",
    "model = model.fit(X, y)\n",
    "print('Polynomial 회귀 계수 \\n', np.round(model.named_steps['linear'].coef_, 2))"
   ]
  },
  {
   "cell_type": "markdown",
   "id": "edc4d8fe-17af-4aa7-91c1-8bf04f9f4760",
   "metadata": {},
   "source": [
    "## 가상 데이터 생성 및 다항 회귀 추정"
   ]
  },
  {
   "cell_type": "code",
   "execution_count": 16,
   "id": "b3da961e-4eeb-4024-ac9a-866d92f3b1a7",
   "metadata": {},
   "outputs": [
    {
     "data": {
      "image/png": "[encoded data removed]",
      "text/plain": [
       "<Figure size 640x480 with 1 Axes>"
      ]
     },
     "metadata": {},
     "output_type": "display_data"
    }
   ],
   "source": [
    "import matplotlib.pyplot as plt\n",
    "\n",
    "m = 100\n",
    "X = 6 * np.random.rand(m,1)-3\n",
    "y = 0.5 * X**2 + X +2 +np.random.randn(m,1)\n",
    "\n",
    "plt.plot(X, y, 'b.')\n",
    "plt.ylabel('Y', fontsize=15, rotation=0)\n",
    "plt.xlabel('X', fontsize=15)\n",
    "plt.show()"
   ]
  },
  {
   "cell_type": "markdown",
   "id": "3bfb1664-779c-4de0-97e9-a6f699da609c",
   "metadata": {},
   "source": [
    "## 다항식으로 변환"
   ]
  },
  {
   "cell_type": "code",
   "execution_count": 17,
   "id": "39e0c82c-965b-4e18-bfda-cc72e8e3cd69",
   "metadata": {},
   "outputs": [],
   "source": [
    "poly_features = PolynomialFeatures(degree=2, include_bias=False)\n",
    "X_poly = poly_features.fit_transform(X)"
   ]
  },
  {
   "cell_type": "markdown",
   "id": "fbf337b2-2d06-4cbb-be1a-cd86b751407f",
   "metadata": {},
   "source": [
    "## 선형회귀 Linear Regression 적용하여 회귀 계수 추정"
   ]
  },
  {
   "cell_type": "code",
   "execution_count": 18,
   "id": "645cfee8-425c-4938-8d2f-c703ad76f714",
   "metadata": {},
   "outputs": [
    {
     "data": {
      "text/plain": [
       "(array([2.26575796]), array([[1.08631542, 0.44886007]]))"
      ]
     },
     "execution_count": 18,
     "metadata": {},
     "output_type": "execute_result"
    }
   ],
   "source": [
    "lin_reg = LinearRegression()\n",
    "lin_reg.fit(X_poly, y)\n",
    "lin_reg.intercept_, lin_reg.coef_"
   ]
  },
  {
   "cell_type": "markdown",
   "id": "9d49a002-4b4f-4571-8c22-b325f055bcf6",
   "metadata": {},
   "source": [
    "## 다항회귀식 시각화"
   ]
  },
  {
   "cell_type": "code",
   "execution_count": 22,
   "id": "ede09537-cdb5-4bd6-9e3f-adf71ee5f008",
   "metadata": {},
   "outputs": [
    {
     "data": {
      "image/png": "[encoded data removed]",
      "text/plain": [
       "<Figure size 640x480 with 1 Axes>"
      ]
     },
     "metadata": {},
     "output_type": "display_data"
    }
   ],
   "source": [
    "X_new=np.linspace(-3, 3, 100).reshape(100, 1)\n",
    "X_new_poly = poly_features.transform(X_new)\n",
    "y_new = lin_reg.predict(X_new_poly)\n",
    "plt.plot(X, y, \"b.\")\n",
    "plt.plot(X_new, y_new, \"r-\", linewidth=2, label=\"Predictions\")\n",
    "plt.xlabel(\"$x_1$\", fontsize=18)\n",
    "plt.ylabel(\"$y$\", rotation=0, fontsize=18)\n",
    "plt.legend(loc=\"upper left\", fontsize=14)\n",
    "plt.axis([-3, 3, 0, 10])\n",
    "plt.show()"
   ]
  },
  {
   "cell_type": "markdown",
   "id": "a1ce967f-984f-4d11-bf25-0f40c0bb38ee",
   "metadata": {},
   "source": [
    "### 다항회귀를 이용한 보스톤 집값 예측 평가 및 주의점"
   ]
  },
  {
   "cell_type": "code",
   "execution_count": 19,
   "id": "552d6940-c736-4917-bb6c-e4772c254980",
   "metadata": {},
   "outputs": [
    {
     "name": "stdout",
     "output_type": "stream",
     "text": [
      "Boston 데이타셋 크기 : (506, 14)\n"
     ]
    }
   ],
   "source": [
    "import matplotlib.pyplot as plt\n",
    "import pandas as pd\n",
    "import seaborn as sns\n",
    "from scipy import stats\n",
    "from sklearn.datasets import load_boston\n",
    "get_ipython().run_line_magic('matplotlib', 'inline')\n",
    "from sklearn.model_selection import train_test_split\n",
    "from sklearn.linear_model import LinearRegression\n",
    "from sklearn.metrics import mean_squared_error , r2_score\n",
    "from sklearn.preprocessing import PolynomialFeatures\n",
    "from sklearn.linear_model import LinearRegression\n",
    "from sklearn.pipeline import Pipeline\n",
    "import numpy as np\n",
    "\n",
    "# boston 데이타셋 로드\n",
    "boston = load_boston()\n",
    "\n",
    "# boston 데이타셋 DataFrame 변환 \n",
    "bostonDF = pd.DataFrame(boston.data , columns = boston.feature_names)\n",
    "\n",
    "# boston dataset의 target array는 주택 가격임. 이를 PRICE 컬럼으로 DataFrame에 추가함. \n",
    "bostonDF['PRICE'] = boston.target\n",
    "print('Boston 데이타셋 크기 :',bostonDF.shape)\n",
    "\n",
    "y_target = bostonDF['PRICE']\n",
    "X_data = bostonDF.drop(['PRICE'],axis=1,inplace=False)\n",
    "\n",
    "X_train , X_test , y_train , y_test = train_test_split(X_data, y_target,\n",
    "                                                       test_size=0.3, random_state=156)"
   ]
  },
  {
   "cell_type": "code",
   "execution_count": 20,
   "id": "a8820c8a-3666-46dd-9d38-52d99f75538f",
   "metadata": {},
   "outputs": [],
   "source": [
    "## Pipeline을 이용하여 PolynomialFeatures 변환과 LinearRegression 적용을 순차적으로 결합. \n",
    "## 'poly' : 첫번째 스탭의 이름(변수명처럼 직접 만들어 지어줌)\n",
    "## 'linear' : 두번째 스탭의 이름두번째 스탭의 이름\n",
    "\n",
    "p_model = Pipeline([('poly', PolynomialFeatures(degree=2)),\n",
    "                  ('linear', LinearRegression())])"
   ]
  },
  {
   "cell_type": "code",
   "execution_count": 21,
   "id": "362cb085-b078-4faf-aef4-d99cd1f48c9b",
   "metadata": {},
   "outputs": [
    {
     "name": "stdout",
     "output_type": "stream",
     "text": [
      "Polynomial 회귀 계수\n",
      " [-1.09063739e+09 -8.13000000e+00 -9.00000000e-02 -7.01000000e+00\n",
      "  3.69700000e+01  2.53630000e+02  3.09600000e+01  1.25000000e+00\n",
      " -1.20200000e+01  3.09000000e+00 -1.30000000e-01  7.76000000e+00\n",
      "  5.00000000e-02  5.10000000e-01 -0.00000000e+00  2.70000000e-01\n",
      "  6.00000000e-01  1.86000000e+00 -1.40000000e-01 -0.00000000e+00\n",
      "  1.00000000e-02 -1.00000000e-01  5.90000000e-01 -6.00000000e-02\n",
      "  9.60000000e-01 -0.00000000e+00  4.00000000e-02 -0.00000000e+00\n",
      " -3.00000000e-02 -2.10000000e-01 -2.11000000e+00 -7.00000000e-02\n",
      "  0.00000000e+00 -3.00000000e-02  1.00000000e-02  0.00000000e+00\n",
      " -2.00000000e-02  1.00000000e-02 -1.00000000e-02  4.00000000e-02\n",
      " -5.30000000e-01 -7.00000000e-02  1.90000000e-01  1.00000000e-02\n",
      "  1.80000000e-01 -4.00000000e-02  0.00000000e+00 -7.00000000e-02\n",
      "  1.00000000e-02 -2.00000000e-02  3.69700000e+01 -2.92400000e+01\n",
      " -5.98000000e+00 -3.00000000e-02  1.74000000e+00  3.00000000e-02\n",
      "  3.00000000e-02 -1.99000000e+00  3.00000000e-02 -1.70000000e-01\n",
      " -7.70100000e+01 -5.07000000e+00 -4.10000000e-01  2.27200000e+01\n",
      " -4.96000000e+00  5.70000000e-01 -1.77100000e+01 -2.30000000e-01\n",
      "  1.37000000e+00 -2.00000000e-02 -1.00000000e-01 -3.70000000e-01\n",
      " -2.90000000e-01  1.00000000e-02 -7.80000000e-01  1.00000000e-02\n",
      " -2.10000000e-01  0.00000000e+00 -2.00000000e-02  2.00000000e-02\n",
      " -0.00000000e+00 -1.00000000e-02  0.00000000e+00 -1.00000000e-02\n",
      "  7.30000000e-01 -2.60000000e-01  0.00000000e+00 -2.70000000e-01\n",
      " -0.00000000e+00  5.00000000e-02 -1.40000000e-01  1.00000000e-02\n",
      " -9.00000000e-02  1.00000000e-02 -8.00000000e-02 -0.00000000e+00\n",
      "  1.00000000e-02 -0.00000000e+00  0.00000000e+00  1.10000000e-01\n",
      "  1.00000000e-02  1.00000000e-02 -0.00000000e+00  0.00000000e+00\n",
      "  1.00000000e-02]\n",
      "MSE : 41.731 , RMSE : 6.460\n",
      "Variance score : 0.414\n"
     ]
    }
   ],
   "source": [
    "p_model.fit(X_train, y_train)\n",
    "\n",
    "# linear스텝의 속성 coef_를 반환\n",
    "print('Polynomial 회귀 계수\\n', np.round(p_model.named_steps['linear'].coef_, 2))\n",
    "\n",
    "y_preds = p_model.predict(X_test)\n",
    "mse = mean_squared_error(y_test, y_preds)\n",
    "rmse = np.sqrt(mse)\n",
    "\n",
    "print('MSE : {0:.3f} , RMSE : {1:.3F}'.format(mse , rmse))\n",
    "print('Variance score : {0:.3f}'.format(r2_score(y_test, y_preds)))"
   ]
  },
  {
   "cell_type": "code",
   "execution_count": 22,
   "id": "85137112-5e6a-49b5-a422-42f4cb63c5a3",
   "metadata": {},
   "outputs": [
    {
     "data": {
      "text/plain": [
       "((354, 104), (354, 13))"
      ]
     },
     "execution_count": 22,
     "metadata": {},
     "output_type": "execute_result"
    }
   ],
   "source": [
    "# 2차 다항식을 해서 피처가 13개에서 104개로 늘어남\n",
    "# 다항식 값이 높아질 수록 오버피팅을 급격하게 진행하고 오차가 늘어나게 된다.\n",
    "# 다항식을 쓸때는 degree에 대해 주의 행 함\n",
    "X_train_poly= PolynomialFeatures(degree=2, include_bias=False).fit_transform(X_train, y_train)\n",
    "X_train_poly.shape, X_train.shape"
   ]
  },
  {
   "cell_type": "code",
   "execution_count": 25,
   "id": "bfe7fd4b-1b2a-4ed6-9801-1af44043ef14",
   "metadata": {},
   "outputs": [
    {
     "name": "stdout",
     "output_type": "stream",
     "text": [
      "MSE : 15.556 , RMSE : 3.944\n",
      "Variance score : 0.782\n"
     ]
    }
   ],
   "source": [
    "## include_bias 튜닝\n",
    "## Pipeline을 이용하여 PolynomialFeatures 변환과 LinearRegression 적용을 순차적으로 결합. \n",
    "p_model = Pipeline([('poly', PolynomialFeatures(degree=2, include_bias=False)),\n",
    "                   ('linear', LinearRegression())])\n",
    "\n",
    "p_model.fit(X_train, y_train)\n",
    "\n",
    "y_preds = p_model.predict(X_test)\n",
    "mse = mean_squared_error(y_test, y_preds)\n",
    "rmse = np.sqrt(mse)\n",
    "\n",
    "print('MSE : {0:.3f} , RMSE : {1:.3F}'.format(mse , rmse))\n",
    "print('Variance score : {0:.3f}'.format(r2_score(y_test, y_preds)))\n",
    "\n",
    "# 지료가 좋아짐\n",
    "# MSE : 15.556 , RMSE : 3.944\n",
    "# Variance score : 0.782"
   ]
  },
  {
   "cell_type": "code",
   "execution_count": 26,
   "id": "a4ae3280-c4c7-42d0-8fcd-0fbf6034a7ca",
   "metadata": {},
   "outputs": [
    {
     "name": "stdout",
     "output_type": "stream",
     "text": [
      "MSE : 79625.593 , RMSE : 282.180\n",
      "Variance score : -1116.598\n"
     ]
    }
   ],
   "source": [
    "# ## Pipeline을 이용하여 PolynomialFeatures 변환과 LinearRegression 적용을 순차적으로 결합. \n",
    "## 3차 다항식으로 변경\n",
    "p_model = Pipeline([('poly', PolynomialFeatures(degree=3, include_bias=False)),\n",
    "                  ('linear', LinearRegression())])\n",
    "# RMSE가 급격히 늘어나면서 오버피팅이 일어남\n",
    "# MSE : 79625.593 , RMSE : 282.180\n",
    "# Variance score : -1116.598\n",
    "\n",
    "## 다항회귀의 단점 : 오버피팅이 일어나기 쉽다\n",
    "\n",
    "p_model.fit(X_train, y_train)\n",
    "\n",
    "y_preds = p_model.predict(X_test)\n",
    "mse = mean_squared_error(y_test, y_preds)\n",
    "rmse = np.sqrt(mse)\n",
    "\n",
    "print('MSE : {0:.3f} , RMSE : {1:.3F}'.format(mse , rmse))\n",
    "print('Variance score : {0:.3f}'.format(r2_score(y_test, y_preds)))"
   ]
  },
  {
   "cell_type": "code",
   "execution_count": null,
   "id": "eb030410-faf0-40c6-94f1-25d90815b330",
   "metadata": {},
   "outputs": [],
   "source": []
  }
 ],
 "metadata": {
  "kernelspec": {
   "display_name": "Python Multi",
   "language": "python",
   "name": "multi"
  },
  "language_info": {
   "codemirror_mode": {
    "name": "ipython",
    "version": 3
   },
   "file_extension": ".py",
   "mimetype": "text/x-python",
   "name": "python",
   "nbconvert_exporter": "python",
   "pygments_lexer": "ipython3",
   "version": "3.7.6"
  }
 },
 "nbformat": 4,
 "nbformat_minor": 5
}
