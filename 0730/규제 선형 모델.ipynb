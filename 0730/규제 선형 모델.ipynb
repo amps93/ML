{
 "cells": [
  {
   "cell_type": "markdown",
   "id": "86bfd5ad-b046-43c9-b889-78a7fad1b437",
   "metadata": {},
   "source": [
    "# 규제 선형 모델"
   ]
  },
  {
   "cell_type": "code",
   "execution_count": null,
   "id": "d254b4be-f5b6-4d44-8c87-e565ebaa2f9a",
   "metadata": {},
   "outputs": [],
   "source": []
  }
 ],
 "metadata": {
  "kernelspec": {
   "display_name": "Python Multi",
   "language": "python",
   "name": "multi"
  },
  "language_info": {
   "codemirror_mode": {
    "name": "ipython",
    "version": 3
   },
   "file_extension": ".py",
   "mimetype": "text/x-python",
   "name": "python",
   "nbconvert_exporter": "python",
   "pygments_lexer": "ipython3",
   "version": "3.7.6"
  }
 },
 "nbformat": 4,
 "nbformat_minor": 5
}
