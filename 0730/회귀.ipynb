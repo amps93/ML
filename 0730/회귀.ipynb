{
 "cells": [
  {
   "cell_type": "markdown",
   "id": "38e0e54f-6fde-4f0b-a015-ad735168689f",
   "metadata": {},
   "source": [
    "# 회귀 (Regression)"
   ]
  },
  {
   "cell_type": "code",
   "execution_count": null,
   "id": "a8ba2198-929f-47dc-b39e-7ea0d42b4fff",
   "metadata": {},
   "outputs": [],
   "source": []
  }
 ],
 "metadata": {
  "kernelspec": {
   "display_name": "Python Multi",
   "language": "python",
   "name": "multi"
  },
  "language_info": {
   "codemirror_mode": {
    "name": "ipython",
    "version": 3
   },
   "file_extension": ".py",
   "mimetype": "text/x-python",
   "name": "python",
   "nbconvert_exporter": "python",
   "pygments_lexer": "ipython3",
   "version": "3.7.6"
  }
 },
 "nbformat": 4,
 "nbformat_minor": 5
}
