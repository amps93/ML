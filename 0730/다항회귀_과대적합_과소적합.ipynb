{
 "cells": [
  {
   "cell_type": "markdown",
   "id": "23a62fa2-785f-4dc5-91dc-b087861624d5",
   "metadata": {},
   "source": [
    "# Polynomial Regression을 이용한 Underfitting, Overfitting 이해"
   ]
  },
  {
   "cell_type": "code",
   "execution_count": null,
   "id": "f24946c1-7783-4e4b-ad5a-db114f839d45",
   "metadata": {},
   "outputs": [],
   "source": []
  }
 ],
 "metadata": {
  "kernelspec": {
   "display_name": "Python Multi",
   "language": "python",
   "name": "multi"
  },
  "language_info": {
   "codemirror_mode": {
    "name": "ipython",
    "version": 3
   },
   "file_extension": ".py",
   "mimetype": "text/x-python",
   "name": "python",
   "nbconvert_exporter": "python",
   "pygments_lexer": "ipython3",
   "version": "3.7.6"
  }
 },
 "nbformat": 4,
 "nbformat_minor": 5
}
